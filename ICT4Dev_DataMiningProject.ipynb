{
  "cells": [
    {
      "cell_type": "markdown",
      "metadata": {
        "id": "view-in-github",
        "colab_type": "text"
      },
      "source": [
        "<a href=\"https://colab.research.google.com/github/vybraan/Maternal-Infant-Health-Analysis/blob/master/ICT4Dev_DataMiningProject.ipynb\" target=\"_parent\"><img src=\"https://colab.research.google.com/assets/colab-badge.svg\" alt=\"Open In Colab\"/></a>"
      ]
    },
    {
      "cell_type": "markdown",
      "metadata": {
        "id": "ilmg5QB01Gti"
      },
      "source": [
        "# **Maternal and Infant Health Analysis**"
      ]
    },
    {
      "cell_type": "markdown",
      "metadata": {
        "id": "rom_tA2Q07R1"
      },
      "source": [
        "This project focuses on exploring and analysing dataset related to maternal and child health. The dataset include information on pregnancies, birth outcomes, child health factors. My aim is to gain insight into the factors that influence pregnancy outcomes, identify trends and contribute to the understanding of health patterns.\n",
        "\n",
        "## Data sets included:\n",
        "1. Birth outcomes dataset: This dataset includes information on the outcomes of pregnancies, such as types of birth (single or multiple[ it means twins or not]), neonatal health and maternal health status.\n",
        "\n",
        "The datasets presented here can be found in one of the government or [National Statistics Institute](https://www.ine.gov.mz/pt/web/guest/outras-plataformas)  archives, specifically on [COMSA](https://comsamozambique.org/baixar-documento).\n",
        "\n",
        "\n",
        "I will, however, add the datasets to the [github](https://github.com/vybraan/Maternal-Infant-Health-Analysis) repository."
      ]
    },
    {
      "cell_type": "markdown",
      "metadata": {
        "id": "zeznewPezNVh"
      },
      "source": [
        "**Import of useful libraries**\n",
        "\n",
        "---\n",
        "\n"
      ]
    },
    {
      "cell_type": "code",
      "execution_count": 91,
      "metadata": {
        "id": "u6gTMcfY_wnX"
      },
      "outputs": [],
      "source": [
        "import pandas as pd\n",
        "import numpy as np\n",
        "import matplotlib.pyplot as plt\n",
        "import seaborn as sns\n",
        "from sklearn.model_selection import train_test_split\n",
        "from sklearn.metrics import accuracy_score, precision_score, recall_score, f1_score, mean_squared_error, r2_score\n",
        "from sklearn.preprocessing import PolynomialFeatures\n",
        "from sklearn.linear_model import LinearRegression\n",
        "from sklearn.tree import DecisionTreeRegressor\n",
        "from sklearn.ensemble import RandomForestRegressor\n"
      ]
    },
    {
      "cell_type": "markdown",
      "metadata": {
        "id": "GIT-IcY-zLdo"
      },
      "source": []
    },
    {
      "cell_type": "markdown",
      "metadata": {
        "id": "Cp8ORa2O9MFS"
      },
      "source": [
        "Adding Google Drive"
      ]
    },
    {
      "cell_type": "code",
      "execution_count": 2,
      "metadata": {
        "colab": {
          "base_uri": "https://localhost:8080/"
        },
        "id": "KPpuqr8V9Obs",
        "outputId": "f935067e-d371-4a09-f57b-6588a9ad5658"
      },
      "outputs": [
        {
          "output_type": "stream",
          "name": "stdout",
          "text": [
            "Mounted at /content/drive\n"
          ]
        }
      ],
      "source": [
        "from google.colab import drive\n",
        "drive.mount('/content/drive', force_remount=True)"
      ]
    },
    {
      "cell_type": "markdown",
      "metadata": {
        "id": "oz4vQ21O-OAI"
      },
      "source": [
        "Naviating to my files"
      ]
    },
    {
      "cell_type": "code",
      "execution_count": 3,
      "metadata": {
        "colab": {
          "base_uri": "https://localhost:8080/"
        },
        "id": "mdM2CO9U-TYU",
        "outputId": "475d621b-a777-4834-ab95-e90068409d3c"
      },
      "outputs": [
        {
          "output_type": "stream",
          "name": "stdout",
          "text": [
            "/content/drive/MyDrive/Colab Notebooks\n"
          ]
        }
      ],
      "source": [
        "%cd /content/drive/MyDrive/Colab Notebooks/"
      ]
    },
    {
      "cell_type": "code",
      "execution_count": 92,
      "metadata": {
        "id": "B_VTCIpC8Vsy"
      },
      "outputs": [],
      "source": [
        "cpragnacy_outcome = pd.read_csv(\"Comsa_pregnancy_outcome_20230801.csv\")"
      ]
    },
    {
      "cell_type": "code",
      "execution_count": 93,
      "metadata": {
        "colab": {
          "base_uri": "https://localhost:8080/"
        },
        "id": "m4LxIO1aPS1B",
        "outputId": "73fc08fe-96ee-4e51-c48a-501aae5dbace"
      },
      "outputs": [
        {
          "output_type": "execute_result",
          "data": {
            "text/plain": [
              "(66886, 15)"
            ]
          },
          "metadata": {},
          "execution_count": 93
        }
      ],
      "source": [
        "cpragnacy_outcome.shape"
      ]
    },
    {
      "cell_type": "markdown",
      "metadata": {
        "id": "HZM4mVfKPSXe"
      },
      "source": []
    },
    {
      "cell_type": "code",
      "execution_count": 94,
      "metadata": {
        "colab": {
          "base_uri": "https://localhost:8080/",
          "height": 206
        },
        "id": "dgI_a--H8nw_",
        "outputId": "142b8a56-e6cf-4d6e-f1c9-78765838c7da"
      },
      "outputs": [
        {
          "output_type": "execute_result",
          "data": {
            "text/plain": [
              "   ev_uniq         provincia agegroup       po14             po17  po18 po19  \\\n",
              "0    72274              Tete    25-29  Yes, seen  Health facility     9   No   \n",
              "1   101869              Tete    25-29  Yes, seen  Health facility     9   No   \n",
              "2    61361  Maputo Provincia    15-19  Yes, seen  Health facility     9   No   \n",
              "3    82435              Tete    20-24  Yes, seen  Health facility     9   No   \n",
              "4    66221              Tete    20-24  Yes, seen  Health facility     9   No   \n",
              "\n",
              "   po20  po21        po22 residence  wa_code pofbsex  pofbwgt pofreg  \n",
              "0   NaN   NaN  Live birth     Rural  AT05060  Female   3000.0    Yes  \n",
              "1   NaN   NaN  Live birth     Rural  AT05250    Male   3600.0    Yes  \n",
              "2   NaN   NaN  Live birth     Urban  AT10070    Male   3800.0     No  \n",
              "3   NaN   NaN  Live birth     Rural  AT05059    Male   3000.0    Yes  \n",
              "4   NaN   NaN  Live birth     Rural  AT05076    Male   3000.0    Yes  "
            ],
            "text/html": [
              "\n",
              "  <div id=\"df-3b1448cd-412d-4a37-912b-53d25845dd52\" class=\"colab-df-container\">\n",
              "    <div>\n",
              "<style scoped>\n",
              "    .dataframe tbody tr th:only-of-type {\n",
              "        vertical-align: middle;\n",
              "    }\n",
              "\n",
              "    .dataframe tbody tr th {\n",
              "        vertical-align: top;\n",
              "    }\n",
              "\n",
              "    .dataframe thead th {\n",
              "        text-align: right;\n",
              "    }\n",
              "</style>\n",
              "<table border=\"1\" class=\"dataframe\">\n",
              "  <thead>\n",
              "    <tr style=\"text-align: right;\">\n",
              "      <th></th>\n",
              "      <th>ev_uniq</th>\n",
              "      <th>provincia</th>\n",
              "      <th>agegroup</th>\n",
              "      <th>po14</th>\n",
              "      <th>po17</th>\n",
              "      <th>po18</th>\n",
              "      <th>po19</th>\n",
              "      <th>po20</th>\n",
              "      <th>po21</th>\n",
              "      <th>po22</th>\n",
              "      <th>residence</th>\n",
              "      <th>wa_code</th>\n",
              "      <th>pofbsex</th>\n",
              "      <th>pofbwgt</th>\n",
              "      <th>pofreg</th>\n",
              "    </tr>\n",
              "  </thead>\n",
              "  <tbody>\n",
              "    <tr>\n",
              "      <th>0</th>\n",
              "      <td>72274</td>\n",
              "      <td>Tete</td>\n",
              "      <td>25-29</td>\n",
              "      <td>Yes, seen</td>\n",
              "      <td>Health facility</td>\n",
              "      <td>9</td>\n",
              "      <td>No</td>\n",
              "      <td>NaN</td>\n",
              "      <td>NaN</td>\n",
              "      <td>Live birth</td>\n",
              "      <td>Rural</td>\n",
              "      <td>AT05060</td>\n",
              "      <td>Female</td>\n",
              "      <td>3000.0</td>\n",
              "      <td>Yes</td>\n",
              "    </tr>\n",
              "    <tr>\n",
              "      <th>1</th>\n",
              "      <td>101869</td>\n",
              "      <td>Tete</td>\n",
              "      <td>25-29</td>\n",
              "      <td>Yes, seen</td>\n",
              "      <td>Health facility</td>\n",
              "      <td>9</td>\n",
              "      <td>No</td>\n",
              "      <td>NaN</td>\n",
              "      <td>NaN</td>\n",
              "      <td>Live birth</td>\n",
              "      <td>Rural</td>\n",
              "      <td>AT05250</td>\n",
              "      <td>Male</td>\n",
              "      <td>3600.0</td>\n",
              "      <td>Yes</td>\n",
              "    </tr>\n",
              "    <tr>\n",
              "      <th>2</th>\n",
              "      <td>61361</td>\n",
              "      <td>Maputo Provincia</td>\n",
              "      <td>15-19</td>\n",
              "      <td>Yes, seen</td>\n",
              "      <td>Health facility</td>\n",
              "      <td>9</td>\n",
              "      <td>No</td>\n",
              "      <td>NaN</td>\n",
              "      <td>NaN</td>\n",
              "      <td>Live birth</td>\n",
              "      <td>Urban</td>\n",
              "      <td>AT10070</td>\n",
              "      <td>Male</td>\n",
              "      <td>3800.0</td>\n",
              "      <td>No</td>\n",
              "    </tr>\n",
              "    <tr>\n",
              "      <th>3</th>\n",
              "      <td>82435</td>\n",
              "      <td>Tete</td>\n",
              "      <td>20-24</td>\n",
              "      <td>Yes, seen</td>\n",
              "      <td>Health facility</td>\n",
              "      <td>9</td>\n",
              "      <td>No</td>\n",
              "      <td>NaN</td>\n",
              "      <td>NaN</td>\n",
              "      <td>Live birth</td>\n",
              "      <td>Rural</td>\n",
              "      <td>AT05059</td>\n",
              "      <td>Male</td>\n",
              "      <td>3000.0</td>\n",
              "      <td>Yes</td>\n",
              "    </tr>\n",
              "    <tr>\n",
              "      <th>4</th>\n",
              "      <td>66221</td>\n",
              "      <td>Tete</td>\n",
              "      <td>20-24</td>\n",
              "      <td>Yes, seen</td>\n",
              "      <td>Health facility</td>\n",
              "      <td>9</td>\n",
              "      <td>No</td>\n",
              "      <td>NaN</td>\n",
              "      <td>NaN</td>\n",
              "      <td>Live birth</td>\n",
              "      <td>Rural</td>\n",
              "      <td>AT05076</td>\n",
              "      <td>Male</td>\n",
              "      <td>3000.0</td>\n",
              "      <td>Yes</td>\n",
              "    </tr>\n",
              "  </tbody>\n",
              "</table>\n",
              "</div>\n",
              "    <div class=\"colab-df-buttons\">\n",
              "\n",
              "  <div class=\"colab-df-container\">\n",
              "    <button class=\"colab-df-convert\" onclick=\"convertToInteractive('df-3b1448cd-412d-4a37-912b-53d25845dd52')\"\n",
              "            title=\"Convert this dataframe to an interactive table.\"\n",
              "            style=\"display:none;\">\n",
              "\n",
              "  <svg xmlns=\"http://www.w3.org/2000/svg\" height=\"24px\" viewBox=\"0 -960 960 960\">\n",
              "    <path d=\"M120-120v-720h720v720H120Zm60-500h600v-160H180v160Zm220 220h160v-160H400v160Zm0 220h160v-160H400v160ZM180-400h160v-160H180v160Zm440 0h160v-160H620v160ZM180-180h160v-160H180v160Zm440 0h160v-160H620v160Z\"/>\n",
              "  </svg>\n",
              "    </button>\n",
              "\n",
              "  <style>\n",
              "    .colab-df-container {\n",
              "      display:flex;\n",
              "      gap: 12px;\n",
              "    }\n",
              "\n",
              "    .colab-df-convert {\n",
              "      background-color: #E8F0FE;\n",
              "      border: none;\n",
              "      border-radius: 50%;\n",
              "      cursor: pointer;\n",
              "      display: none;\n",
              "      fill: #1967D2;\n",
              "      height: 32px;\n",
              "      padding: 0 0 0 0;\n",
              "      width: 32px;\n",
              "    }\n",
              "\n",
              "    .colab-df-convert:hover {\n",
              "      background-color: #E2EBFA;\n",
              "      box-shadow: 0px 1px 2px rgba(60, 64, 67, 0.3), 0px 1px 3px 1px rgba(60, 64, 67, 0.15);\n",
              "      fill: #174EA6;\n",
              "    }\n",
              "\n",
              "    .colab-df-buttons div {\n",
              "      margin-bottom: 4px;\n",
              "    }\n",
              "\n",
              "    [theme=dark] .colab-df-convert {\n",
              "      background-color: #3B4455;\n",
              "      fill: #D2E3FC;\n",
              "    }\n",
              "\n",
              "    [theme=dark] .colab-df-convert:hover {\n",
              "      background-color: #434B5C;\n",
              "      box-shadow: 0px 1px 3px 1px rgba(0, 0, 0, 0.15);\n",
              "      filter: drop-shadow(0px 1px 2px rgba(0, 0, 0, 0.3));\n",
              "      fill: #FFFFFF;\n",
              "    }\n",
              "  </style>\n",
              "\n",
              "    <script>\n",
              "      const buttonEl =\n",
              "        document.querySelector('#df-3b1448cd-412d-4a37-912b-53d25845dd52 button.colab-df-convert');\n",
              "      buttonEl.style.display =\n",
              "        google.colab.kernel.accessAllowed ? 'block' : 'none';\n",
              "\n",
              "      async function convertToInteractive(key) {\n",
              "        const element = document.querySelector('#df-3b1448cd-412d-4a37-912b-53d25845dd52');\n",
              "        const dataTable =\n",
              "          await google.colab.kernel.invokeFunction('convertToInteractive',\n",
              "                                                    [key], {});\n",
              "        if (!dataTable) return;\n",
              "\n",
              "        const docLinkHtml = 'Like what you see? Visit the ' +\n",
              "          '<a target=\"_blank\" href=https://colab.research.google.com/notebooks/data_table.ipynb>data table notebook</a>'\n",
              "          + ' to learn more about interactive tables.';\n",
              "        element.innerHTML = '';\n",
              "        dataTable['output_type'] = 'display_data';\n",
              "        await google.colab.output.renderOutput(dataTable, element);\n",
              "        const docLink = document.createElement('div');\n",
              "        docLink.innerHTML = docLinkHtml;\n",
              "        element.appendChild(docLink);\n",
              "      }\n",
              "    </script>\n",
              "  </div>\n",
              "\n",
              "\n",
              "<div id=\"df-1c6f2190-a724-46cc-ba04-21799b446fbd\">\n",
              "  <button class=\"colab-df-quickchart\" onclick=\"quickchart('df-1c6f2190-a724-46cc-ba04-21799b446fbd')\"\n",
              "            title=\"Suggest charts.\"\n",
              "            style=\"display:none;\">\n",
              "\n",
              "<svg xmlns=\"http://www.w3.org/2000/svg\" height=\"24px\"viewBox=\"0 0 24 24\"\n",
              "     width=\"24px\">\n",
              "    <g>\n",
              "        <path d=\"M19 3H5c-1.1 0-2 .9-2 2v14c0 1.1.9 2 2 2h14c1.1 0 2-.9 2-2V5c0-1.1-.9-2-2-2zM9 17H7v-7h2v7zm4 0h-2V7h2v10zm4 0h-2v-4h2v4z\"/>\n",
              "    </g>\n",
              "</svg>\n",
              "  </button>\n",
              "\n",
              "<style>\n",
              "  .colab-df-quickchart {\n",
              "      --bg-color: #E8F0FE;\n",
              "      --fill-color: #1967D2;\n",
              "      --hover-bg-color: #E2EBFA;\n",
              "      --hover-fill-color: #174EA6;\n",
              "      --disabled-fill-color: #AAA;\n",
              "      --disabled-bg-color: #DDD;\n",
              "  }\n",
              "\n",
              "  [theme=dark] .colab-df-quickchart {\n",
              "      --bg-color: #3B4455;\n",
              "      --fill-color: #D2E3FC;\n",
              "      --hover-bg-color: #434B5C;\n",
              "      --hover-fill-color: #FFFFFF;\n",
              "      --disabled-bg-color: #3B4455;\n",
              "      --disabled-fill-color: #666;\n",
              "  }\n",
              "\n",
              "  .colab-df-quickchart {\n",
              "    background-color: var(--bg-color);\n",
              "    border: none;\n",
              "    border-radius: 50%;\n",
              "    cursor: pointer;\n",
              "    display: none;\n",
              "    fill: var(--fill-color);\n",
              "    height: 32px;\n",
              "    padding: 0;\n",
              "    width: 32px;\n",
              "  }\n",
              "\n",
              "  .colab-df-quickchart:hover {\n",
              "    background-color: var(--hover-bg-color);\n",
              "    box-shadow: 0 1px 2px rgba(60, 64, 67, 0.3), 0 1px 3px 1px rgba(60, 64, 67, 0.15);\n",
              "    fill: var(--button-hover-fill-color);\n",
              "  }\n",
              "\n",
              "  .colab-df-quickchart-complete:disabled,\n",
              "  .colab-df-quickchart-complete:disabled:hover {\n",
              "    background-color: var(--disabled-bg-color);\n",
              "    fill: var(--disabled-fill-color);\n",
              "    box-shadow: none;\n",
              "  }\n",
              "\n",
              "  .colab-df-spinner {\n",
              "    border: 2px solid var(--fill-color);\n",
              "    border-color: transparent;\n",
              "    border-bottom-color: var(--fill-color);\n",
              "    animation:\n",
              "      spin 1s steps(1) infinite;\n",
              "  }\n",
              "\n",
              "  @keyframes spin {\n",
              "    0% {\n",
              "      border-color: transparent;\n",
              "      border-bottom-color: var(--fill-color);\n",
              "      border-left-color: var(--fill-color);\n",
              "    }\n",
              "    20% {\n",
              "      border-color: transparent;\n",
              "      border-left-color: var(--fill-color);\n",
              "      border-top-color: var(--fill-color);\n",
              "    }\n",
              "    30% {\n",
              "      border-color: transparent;\n",
              "      border-left-color: var(--fill-color);\n",
              "      border-top-color: var(--fill-color);\n",
              "      border-right-color: var(--fill-color);\n",
              "    }\n",
              "    40% {\n",
              "      border-color: transparent;\n",
              "      border-right-color: var(--fill-color);\n",
              "      border-top-color: var(--fill-color);\n",
              "    }\n",
              "    60% {\n",
              "      border-color: transparent;\n",
              "      border-right-color: var(--fill-color);\n",
              "    }\n",
              "    80% {\n",
              "      border-color: transparent;\n",
              "      border-right-color: var(--fill-color);\n",
              "      border-bottom-color: var(--fill-color);\n",
              "    }\n",
              "    90% {\n",
              "      border-color: transparent;\n",
              "      border-bottom-color: var(--fill-color);\n",
              "    }\n",
              "  }\n",
              "</style>\n",
              "\n",
              "  <script>\n",
              "    async function quickchart(key) {\n",
              "      const quickchartButtonEl =\n",
              "        document.querySelector('#' + key + ' button');\n",
              "      quickchartButtonEl.disabled = true;  // To prevent multiple clicks.\n",
              "      quickchartButtonEl.classList.add('colab-df-spinner');\n",
              "      try {\n",
              "        const charts = await google.colab.kernel.invokeFunction(\n",
              "            'suggestCharts', [key], {});\n",
              "      } catch (error) {\n",
              "        console.error('Error during call to suggestCharts:', error);\n",
              "      }\n",
              "      quickchartButtonEl.classList.remove('colab-df-spinner');\n",
              "      quickchartButtonEl.classList.add('colab-df-quickchart-complete');\n",
              "    }\n",
              "    (() => {\n",
              "      let quickchartButtonEl =\n",
              "        document.querySelector('#df-1c6f2190-a724-46cc-ba04-21799b446fbd button');\n",
              "      quickchartButtonEl.style.display =\n",
              "        google.colab.kernel.accessAllowed ? 'block' : 'none';\n",
              "    })();\n",
              "  </script>\n",
              "</div>\n",
              "    </div>\n",
              "  </div>\n"
            ]
          },
          "metadata": {},
          "execution_count": 94
        }
      ],
      "source": [
        "cpragnacy_outcome.head(5)"
      ]
    },
    {
      "cell_type": "markdown",
      "metadata": {
        "id": "vNtlFh5fQKT8"
      },
      "source": [
        "Assessment and cleaning, renaming necessary variables"
      ]
    },
    {
      "cell_type": "code",
      "execution_count": 95,
      "metadata": {
        "id": "81gBvFKhWNEc"
      },
      "outputs": [],
      "source": [
        "cpragnacy_outcome.rename(columns={'ev_uniq': 'id', 'po14': 'health_card', 'po17':'birth_place','po18':'time_of_pragnancy','po19':'multiple_birth','po20':'born_alive','po21':'born_dead', 'po22':'bornDead'}, inplace=True)\n",
        "\n",
        "cpragnacy_outcome['bornDead'] = cpragnacy_outcome['bornDead'].map({'Live birth': 1, 'stillbirth': 0})\n",
        "\n",
        "cpragnacy_outcome.loc[cpragnacy_outcome['health_card'].str.contains('Yes'), 'health_card'] = 'Yes'\n",
        "cpragnacy_outcome.loc[cpragnacy_outcome['health_card'].str.contains('No'), 'health_card'] = 'No'\n",
        "cpragnacy_outcome['agegroup'] = cpragnacy_outcome['agegroup'].str.replace('u', '')\n",
        "\n"
      ]
    },
    {
      "cell_type": "code",
      "execution_count": 96,
      "metadata": {
        "colab": {
          "base_uri": "https://localhost:8080/",
          "height": 206
        },
        "id": "nnqdCz2ozSdl",
        "outputId": "484db524-682c-4931-ea00-0ba4889c2407"
      },
      "outputs": [
        {
          "output_type": "execute_result",
          "data": {
            "text/plain": [
              "       id         provincia agegroup health_card      birth_place  \\\n",
              "0   72274              Tete    25-29         Yes  Health facility   \n",
              "1  101869              Tete    25-29         Yes  Health facility   \n",
              "2   61361  Maputo Provincia    15-19         Yes  Health facility   \n",
              "3   82435              Tete    20-24         Yes  Health facility   \n",
              "4   66221              Tete    20-24         Yes  Health facility   \n",
              "\n",
              "   time_of_pragnancy multiple_birth  born_alive  born_dead  bornDead  \\\n",
              "0                  9             No         NaN        NaN       1.0   \n",
              "1                  9             No         NaN        NaN       1.0   \n",
              "2                  9             No         NaN        NaN       1.0   \n",
              "3                  9             No         NaN        NaN       1.0   \n",
              "4                  9             No         NaN        NaN       1.0   \n",
              "\n",
              "  residence  wa_code pofbsex  pofbwgt pofreg  \n",
              "0     Rural  AT05060  Female   3000.0    Yes  \n",
              "1     Rural  AT05250    Male   3600.0    Yes  \n",
              "2     Urban  AT10070    Male   3800.0     No  \n",
              "3     Rural  AT05059    Male   3000.0    Yes  \n",
              "4     Rural  AT05076    Male   3000.0    Yes  "
            ],
            "text/html": [
              "\n",
              "  <div id=\"df-c868c0c5-da73-48e3-8de0-d732720d3c16\" class=\"colab-df-container\">\n",
              "    <div>\n",
              "<style scoped>\n",
              "    .dataframe tbody tr th:only-of-type {\n",
              "        vertical-align: middle;\n",
              "    }\n",
              "\n",
              "    .dataframe tbody tr th {\n",
              "        vertical-align: top;\n",
              "    }\n",
              "\n",
              "    .dataframe thead th {\n",
              "        text-align: right;\n",
              "    }\n",
              "</style>\n",
              "<table border=\"1\" class=\"dataframe\">\n",
              "  <thead>\n",
              "    <tr style=\"text-align: right;\">\n",
              "      <th></th>\n",
              "      <th>id</th>\n",
              "      <th>provincia</th>\n",
              "      <th>agegroup</th>\n",
              "      <th>health_card</th>\n",
              "      <th>birth_place</th>\n",
              "      <th>time_of_pragnancy</th>\n",
              "      <th>multiple_birth</th>\n",
              "      <th>born_alive</th>\n",
              "      <th>born_dead</th>\n",
              "      <th>bornDead</th>\n",
              "      <th>residence</th>\n",
              "      <th>wa_code</th>\n",
              "      <th>pofbsex</th>\n",
              "      <th>pofbwgt</th>\n",
              "      <th>pofreg</th>\n",
              "    </tr>\n",
              "  </thead>\n",
              "  <tbody>\n",
              "    <tr>\n",
              "      <th>0</th>\n",
              "      <td>72274</td>\n",
              "      <td>Tete</td>\n",
              "      <td>25-29</td>\n",
              "      <td>Yes</td>\n",
              "      <td>Health facility</td>\n",
              "      <td>9</td>\n",
              "      <td>No</td>\n",
              "      <td>NaN</td>\n",
              "      <td>NaN</td>\n",
              "      <td>1.0</td>\n",
              "      <td>Rural</td>\n",
              "      <td>AT05060</td>\n",
              "      <td>Female</td>\n",
              "      <td>3000.0</td>\n",
              "      <td>Yes</td>\n",
              "    </tr>\n",
              "    <tr>\n",
              "      <th>1</th>\n",
              "      <td>101869</td>\n",
              "      <td>Tete</td>\n",
              "      <td>25-29</td>\n",
              "      <td>Yes</td>\n",
              "      <td>Health facility</td>\n",
              "      <td>9</td>\n",
              "      <td>No</td>\n",
              "      <td>NaN</td>\n",
              "      <td>NaN</td>\n",
              "      <td>1.0</td>\n",
              "      <td>Rural</td>\n",
              "      <td>AT05250</td>\n",
              "      <td>Male</td>\n",
              "      <td>3600.0</td>\n",
              "      <td>Yes</td>\n",
              "    </tr>\n",
              "    <tr>\n",
              "      <th>2</th>\n",
              "      <td>61361</td>\n",
              "      <td>Maputo Provincia</td>\n",
              "      <td>15-19</td>\n",
              "      <td>Yes</td>\n",
              "      <td>Health facility</td>\n",
              "      <td>9</td>\n",
              "      <td>No</td>\n",
              "      <td>NaN</td>\n",
              "      <td>NaN</td>\n",
              "      <td>1.0</td>\n",
              "      <td>Urban</td>\n",
              "      <td>AT10070</td>\n",
              "      <td>Male</td>\n",
              "      <td>3800.0</td>\n",
              "      <td>No</td>\n",
              "    </tr>\n",
              "    <tr>\n",
              "      <th>3</th>\n",
              "      <td>82435</td>\n",
              "      <td>Tete</td>\n",
              "      <td>20-24</td>\n",
              "      <td>Yes</td>\n",
              "      <td>Health facility</td>\n",
              "      <td>9</td>\n",
              "      <td>No</td>\n",
              "      <td>NaN</td>\n",
              "      <td>NaN</td>\n",
              "      <td>1.0</td>\n",
              "      <td>Rural</td>\n",
              "      <td>AT05059</td>\n",
              "      <td>Male</td>\n",
              "      <td>3000.0</td>\n",
              "      <td>Yes</td>\n",
              "    </tr>\n",
              "    <tr>\n",
              "      <th>4</th>\n",
              "      <td>66221</td>\n",
              "      <td>Tete</td>\n",
              "      <td>20-24</td>\n",
              "      <td>Yes</td>\n",
              "      <td>Health facility</td>\n",
              "      <td>9</td>\n",
              "      <td>No</td>\n",
              "      <td>NaN</td>\n",
              "      <td>NaN</td>\n",
              "      <td>1.0</td>\n",
              "      <td>Rural</td>\n",
              "      <td>AT05076</td>\n",
              "      <td>Male</td>\n",
              "      <td>3000.0</td>\n",
              "      <td>Yes</td>\n",
              "    </tr>\n",
              "  </tbody>\n",
              "</table>\n",
              "</div>\n",
              "    <div class=\"colab-df-buttons\">\n",
              "\n",
              "  <div class=\"colab-df-container\">\n",
              "    <button class=\"colab-df-convert\" onclick=\"convertToInteractive('df-c868c0c5-da73-48e3-8de0-d732720d3c16')\"\n",
              "            title=\"Convert this dataframe to an interactive table.\"\n",
              "            style=\"display:none;\">\n",
              "\n",
              "  <svg xmlns=\"http://www.w3.org/2000/svg\" height=\"24px\" viewBox=\"0 -960 960 960\">\n",
              "    <path d=\"M120-120v-720h720v720H120Zm60-500h600v-160H180v160Zm220 220h160v-160H400v160Zm0 220h160v-160H400v160ZM180-400h160v-160H180v160Zm440 0h160v-160H620v160ZM180-180h160v-160H180v160Zm440 0h160v-160H620v160Z\"/>\n",
              "  </svg>\n",
              "    </button>\n",
              "\n",
              "  <style>\n",
              "    .colab-df-container {\n",
              "      display:flex;\n",
              "      gap: 12px;\n",
              "    }\n",
              "\n",
              "    .colab-df-convert {\n",
              "      background-color: #E8F0FE;\n",
              "      border: none;\n",
              "      border-radius: 50%;\n",
              "      cursor: pointer;\n",
              "      display: none;\n",
              "      fill: #1967D2;\n",
              "      height: 32px;\n",
              "      padding: 0 0 0 0;\n",
              "      width: 32px;\n",
              "    }\n",
              "\n",
              "    .colab-df-convert:hover {\n",
              "      background-color: #E2EBFA;\n",
              "      box-shadow: 0px 1px 2px rgba(60, 64, 67, 0.3), 0px 1px 3px 1px rgba(60, 64, 67, 0.15);\n",
              "      fill: #174EA6;\n",
              "    }\n",
              "\n",
              "    .colab-df-buttons div {\n",
              "      margin-bottom: 4px;\n",
              "    }\n",
              "\n",
              "    [theme=dark] .colab-df-convert {\n",
              "      background-color: #3B4455;\n",
              "      fill: #D2E3FC;\n",
              "    }\n",
              "\n",
              "    [theme=dark] .colab-df-convert:hover {\n",
              "      background-color: #434B5C;\n",
              "      box-shadow: 0px 1px 3px 1px rgba(0, 0, 0, 0.15);\n",
              "      filter: drop-shadow(0px 1px 2px rgba(0, 0, 0, 0.3));\n",
              "      fill: #FFFFFF;\n",
              "    }\n",
              "  </style>\n",
              "\n",
              "    <script>\n",
              "      const buttonEl =\n",
              "        document.querySelector('#df-c868c0c5-da73-48e3-8de0-d732720d3c16 button.colab-df-convert');\n",
              "      buttonEl.style.display =\n",
              "        google.colab.kernel.accessAllowed ? 'block' : 'none';\n",
              "\n",
              "      async function convertToInteractive(key) {\n",
              "        const element = document.querySelector('#df-c868c0c5-da73-48e3-8de0-d732720d3c16');\n",
              "        const dataTable =\n",
              "          await google.colab.kernel.invokeFunction('convertToInteractive',\n",
              "                                                    [key], {});\n",
              "        if (!dataTable) return;\n",
              "\n",
              "        const docLinkHtml = 'Like what you see? Visit the ' +\n",
              "          '<a target=\"_blank\" href=https://colab.research.google.com/notebooks/data_table.ipynb>data table notebook</a>'\n",
              "          + ' to learn more about interactive tables.';\n",
              "        element.innerHTML = '';\n",
              "        dataTable['output_type'] = 'display_data';\n",
              "        await google.colab.output.renderOutput(dataTable, element);\n",
              "        const docLink = document.createElement('div');\n",
              "        docLink.innerHTML = docLinkHtml;\n",
              "        element.appendChild(docLink);\n",
              "      }\n",
              "    </script>\n",
              "  </div>\n",
              "\n",
              "\n",
              "<div id=\"df-32e48902-62ba-43e2-ade2-561748ac2cec\">\n",
              "  <button class=\"colab-df-quickchart\" onclick=\"quickchart('df-32e48902-62ba-43e2-ade2-561748ac2cec')\"\n",
              "            title=\"Suggest charts.\"\n",
              "            style=\"display:none;\">\n",
              "\n",
              "<svg xmlns=\"http://www.w3.org/2000/svg\" height=\"24px\"viewBox=\"0 0 24 24\"\n",
              "     width=\"24px\">\n",
              "    <g>\n",
              "        <path d=\"M19 3H5c-1.1 0-2 .9-2 2v14c0 1.1.9 2 2 2h14c1.1 0 2-.9 2-2V5c0-1.1-.9-2-2-2zM9 17H7v-7h2v7zm4 0h-2V7h2v10zm4 0h-2v-4h2v4z\"/>\n",
              "    </g>\n",
              "</svg>\n",
              "  </button>\n",
              "\n",
              "<style>\n",
              "  .colab-df-quickchart {\n",
              "      --bg-color: #E8F0FE;\n",
              "      --fill-color: #1967D2;\n",
              "      --hover-bg-color: #E2EBFA;\n",
              "      --hover-fill-color: #174EA6;\n",
              "      --disabled-fill-color: #AAA;\n",
              "      --disabled-bg-color: #DDD;\n",
              "  }\n",
              "\n",
              "  [theme=dark] .colab-df-quickchart {\n",
              "      --bg-color: #3B4455;\n",
              "      --fill-color: #D2E3FC;\n",
              "      --hover-bg-color: #434B5C;\n",
              "      --hover-fill-color: #FFFFFF;\n",
              "      --disabled-bg-color: #3B4455;\n",
              "      --disabled-fill-color: #666;\n",
              "  }\n",
              "\n",
              "  .colab-df-quickchart {\n",
              "    background-color: var(--bg-color);\n",
              "    border: none;\n",
              "    border-radius: 50%;\n",
              "    cursor: pointer;\n",
              "    display: none;\n",
              "    fill: var(--fill-color);\n",
              "    height: 32px;\n",
              "    padding: 0;\n",
              "    width: 32px;\n",
              "  }\n",
              "\n",
              "  .colab-df-quickchart:hover {\n",
              "    background-color: var(--hover-bg-color);\n",
              "    box-shadow: 0 1px 2px rgba(60, 64, 67, 0.3), 0 1px 3px 1px rgba(60, 64, 67, 0.15);\n",
              "    fill: var(--button-hover-fill-color);\n",
              "  }\n",
              "\n",
              "  .colab-df-quickchart-complete:disabled,\n",
              "  .colab-df-quickchart-complete:disabled:hover {\n",
              "    background-color: var(--disabled-bg-color);\n",
              "    fill: var(--disabled-fill-color);\n",
              "    box-shadow: none;\n",
              "  }\n",
              "\n",
              "  .colab-df-spinner {\n",
              "    border: 2px solid var(--fill-color);\n",
              "    border-color: transparent;\n",
              "    border-bottom-color: var(--fill-color);\n",
              "    animation:\n",
              "      spin 1s steps(1) infinite;\n",
              "  }\n",
              "\n",
              "  @keyframes spin {\n",
              "    0% {\n",
              "      border-color: transparent;\n",
              "      border-bottom-color: var(--fill-color);\n",
              "      border-left-color: var(--fill-color);\n",
              "    }\n",
              "    20% {\n",
              "      border-color: transparent;\n",
              "      border-left-color: var(--fill-color);\n",
              "      border-top-color: var(--fill-color);\n",
              "    }\n",
              "    30% {\n",
              "      border-color: transparent;\n",
              "      border-left-color: var(--fill-color);\n",
              "      border-top-color: var(--fill-color);\n",
              "      border-right-color: var(--fill-color);\n",
              "    }\n",
              "    40% {\n",
              "      border-color: transparent;\n",
              "      border-right-color: var(--fill-color);\n",
              "      border-top-color: var(--fill-color);\n",
              "    }\n",
              "    60% {\n",
              "      border-color: transparent;\n",
              "      border-right-color: var(--fill-color);\n",
              "    }\n",
              "    80% {\n",
              "      border-color: transparent;\n",
              "      border-right-color: var(--fill-color);\n",
              "      border-bottom-color: var(--fill-color);\n",
              "    }\n",
              "    90% {\n",
              "      border-color: transparent;\n",
              "      border-bottom-color: var(--fill-color);\n",
              "    }\n",
              "  }\n",
              "</style>\n",
              "\n",
              "  <script>\n",
              "    async function quickchart(key) {\n",
              "      const quickchartButtonEl =\n",
              "        document.querySelector('#' + key + ' button');\n",
              "      quickchartButtonEl.disabled = true;  // To prevent multiple clicks.\n",
              "      quickchartButtonEl.classList.add('colab-df-spinner');\n",
              "      try {\n",
              "        const charts = await google.colab.kernel.invokeFunction(\n",
              "            'suggestCharts', [key], {});\n",
              "      } catch (error) {\n",
              "        console.error('Error during call to suggestCharts:', error);\n",
              "      }\n",
              "      quickchartButtonEl.classList.remove('colab-df-spinner');\n",
              "      quickchartButtonEl.classList.add('colab-df-quickchart-complete');\n",
              "    }\n",
              "    (() => {\n",
              "      let quickchartButtonEl =\n",
              "        document.querySelector('#df-32e48902-62ba-43e2-ade2-561748ac2cec button');\n",
              "      quickchartButtonEl.style.display =\n",
              "        google.colab.kernel.accessAllowed ? 'block' : 'none';\n",
              "    })();\n",
              "  </script>\n",
              "</div>\n",
              "    </div>\n",
              "  </div>\n"
            ]
          },
          "metadata": {},
          "execution_count": 96
        }
      ],
      "source": [
        "cpragnacy_outcome.head(5)"
      ]
    },
    {
      "cell_type": "markdown",
      "metadata": {
        "id": "8TBa74_O55Ek"
      },
      "source": [
        "For the scope of my analysis, I will drop some variables that may not be relevant or that may not provide valuable information for my analysis. Here are some variables that I am excluding from the analysis on the basis of their limited potential usefulness, some of them are duplicates, so..."
      ]
    },
    {
      "cell_type": "code",
      "execution_count": 97,
      "metadata": {
        "colab": {
          "base_uri": "https://localhost:8080/",
          "height": 206
        },
        "id": "IbXJ4jzK53Mu",
        "outputId": "dfd4f375-044e-4824-e21b-a10cfcbcd528"
      },
      "outputs": [
        {
          "output_type": "execute_result",
          "data": {
            "text/plain": [
              "       id         provincia agegroup health_card      birth_place  \\\n",
              "0   72274              Tete    25-29         Yes  Health facility   \n",
              "1  101869              Tete    25-29         Yes  Health facility   \n",
              "2   61361  Maputo Provincia    15-19         Yes  Health facility   \n",
              "3   82435              Tete    20-24         Yes  Health facility   \n",
              "4   66221              Tete    20-24         Yes  Health facility   \n",
              "\n",
              "   time_of_pragnancy multiple_birth  bornDead residence pofbsex  pofbwgt  \\\n",
              "0                  9             No       1.0     Rural  Female   3000.0   \n",
              "1                  9             No       1.0     Rural    Male   3600.0   \n",
              "2                  9             No       1.0     Urban    Male   3800.0   \n",
              "3                  9             No       1.0     Rural    Male   3000.0   \n",
              "4                  9             No       1.0     Rural    Male   3000.0   \n",
              "\n",
              "  pofreg  \n",
              "0    Yes  \n",
              "1    Yes  \n",
              "2     No  \n",
              "3    Yes  \n",
              "4    Yes  "
            ],
            "text/html": [
              "\n",
              "  <div id=\"df-bc58eb8c-3d26-455e-99f8-ecebf2d84ff3\" class=\"colab-df-container\">\n",
              "    <div>\n",
              "<style scoped>\n",
              "    .dataframe tbody tr th:only-of-type {\n",
              "        vertical-align: middle;\n",
              "    }\n",
              "\n",
              "    .dataframe tbody tr th {\n",
              "        vertical-align: top;\n",
              "    }\n",
              "\n",
              "    .dataframe thead th {\n",
              "        text-align: right;\n",
              "    }\n",
              "</style>\n",
              "<table border=\"1\" class=\"dataframe\">\n",
              "  <thead>\n",
              "    <tr style=\"text-align: right;\">\n",
              "      <th></th>\n",
              "      <th>id</th>\n",
              "      <th>provincia</th>\n",
              "      <th>agegroup</th>\n",
              "      <th>health_card</th>\n",
              "      <th>birth_place</th>\n",
              "      <th>time_of_pragnancy</th>\n",
              "      <th>multiple_birth</th>\n",
              "      <th>bornDead</th>\n",
              "      <th>residence</th>\n",
              "      <th>pofbsex</th>\n",
              "      <th>pofbwgt</th>\n",
              "      <th>pofreg</th>\n",
              "    </tr>\n",
              "  </thead>\n",
              "  <tbody>\n",
              "    <tr>\n",
              "      <th>0</th>\n",
              "      <td>72274</td>\n",
              "      <td>Tete</td>\n",
              "      <td>25-29</td>\n",
              "      <td>Yes</td>\n",
              "      <td>Health facility</td>\n",
              "      <td>9</td>\n",
              "      <td>No</td>\n",
              "      <td>1.0</td>\n",
              "      <td>Rural</td>\n",
              "      <td>Female</td>\n",
              "      <td>3000.0</td>\n",
              "      <td>Yes</td>\n",
              "    </tr>\n",
              "    <tr>\n",
              "      <th>1</th>\n",
              "      <td>101869</td>\n",
              "      <td>Tete</td>\n",
              "      <td>25-29</td>\n",
              "      <td>Yes</td>\n",
              "      <td>Health facility</td>\n",
              "      <td>9</td>\n",
              "      <td>No</td>\n",
              "      <td>1.0</td>\n",
              "      <td>Rural</td>\n",
              "      <td>Male</td>\n",
              "      <td>3600.0</td>\n",
              "      <td>Yes</td>\n",
              "    </tr>\n",
              "    <tr>\n",
              "      <th>2</th>\n",
              "      <td>61361</td>\n",
              "      <td>Maputo Provincia</td>\n",
              "      <td>15-19</td>\n",
              "      <td>Yes</td>\n",
              "      <td>Health facility</td>\n",
              "      <td>9</td>\n",
              "      <td>No</td>\n",
              "      <td>1.0</td>\n",
              "      <td>Urban</td>\n",
              "      <td>Male</td>\n",
              "      <td>3800.0</td>\n",
              "      <td>No</td>\n",
              "    </tr>\n",
              "    <tr>\n",
              "      <th>3</th>\n",
              "      <td>82435</td>\n",
              "      <td>Tete</td>\n",
              "      <td>20-24</td>\n",
              "      <td>Yes</td>\n",
              "      <td>Health facility</td>\n",
              "      <td>9</td>\n",
              "      <td>No</td>\n",
              "      <td>1.0</td>\n",
              "      <td>Rural</td>\n",
              "      <td>Male</td>\n",
              "      <td>3000.0</td>\n",
              "      <td>Yes</td>\n",
              "    </tr>\n",
              "    <tr>\n",
              "      <th>4</th>\n",
              "      <td>66221</td>\n",
              "      <td>Tete</td>\n",
              "      <td>20-24</td>\n",
              "      <td>Yes</td>\n",
              "      <td>Health facility</td>\n",
              "      <td>9</td>\n",
              "      <td>No</td>\n",
              "      <td>1.0</td>\n",
              "      <td>Rural</td>\n",
              "      <td>Male</td>\n",
              "      <td>3000.0</td>\n",
              "      <td>Yes</td>\n",
              "    </tr>\n",
              "  </tbody>\n",
              "</table>\n",
              "</div>\n",
              "    <div class=\"colab-df-buttons\">\n",
              "\n",
              "  <div class=\"colab-df-container\">\n",
              "    <button class=\"colab-df-convert\" onclick=\"convertToInteractive('df-bc58eb8c-3d26-455e-99f8-ecebf2d84ff3')\"\n",
              "            title=\"Convert this dataframe to an interactive table.\"\n",
              "            style=\"display:none;\">\n",
              "\n",
              "  <svg xmlns=\"http://www.w3.org/2000/svg\" height=\"24px\" viewBox=\"0 -960 960 960\">\n",
              "    <path d=\"M120-120v-720h720v720H120Zm60-500h600v-160H180v160Zm220 220h160v-160H400v160Zm0 220h160v-160H400v160ZM180-400h160v-160H180v160Zm440 0h160v-160H620v160ZM180-180h160v-160H180v160Zm440 0h160v-160H620v160Z\"/>\n",
              "  </svg>\n",
              "    </button>\n",
              "\n",
              "  <style>\n",
              "    .colab-df-container {\n",
              "      display:flex;\n",
              "      gap: 12px;\n",
              "    }\n",
              "\n",
              "    .colab-df-convert {\n",
              "      background-color: #E8F0FE;\n",
              "      border: none;\n",
              "      border-radius: 50%;\n",
              "      cursor: pointer;\n",
              "      display: none;\n",
              "      fill: #1967D2;\n",
              "      height: 32px;\n",
              "      padding: 0 0 0 0;\n",
              "      width: 32px;\n",
              "    }\n",
              "\n",
              "    .colab-df-convert:hover {\n",
              "      background-color: #E2EBFA;\n",
              "      box-shadow: 0px 1px 2px rgba(60, 64, 67, 0.3), 0px 1px 3px 1px rgba(60, 64, 67, 0.15);\n",
              "      fill: #174EA6;\n",
              "    }\n",
              "\n",
              "    .colab-df-buttons div {\n",
              "      margin-bottom: 4px;\n",
              "    }\n",
              "\n",
              "    [theme=dark] .colab-df-convert {\n",
              "      background-color: #3B4455;\n",
              "      fill: #D2E3FC;\n",
              "    }\n",
              "\n",
              "    [theme=dark] .colab-df-convert:hover {\n",
              "      background-color: #434B5C;\n",
              "      box-shadow: 0px 1px 3px 1px rgba(0, 0, 0, 0.15);\n",
              "      filter: drop-shadow(0px 1px 2px rgba(0, 0, 0, 0.3));\n",
              "      fill: #FFFFFF;\n",
              "    }\n",
              "  </style>\n",
              "\n",
              "    <script>\n",
              "      const buttonEl =\n",
              "        document.querySelector('#df-bc58eb8c-3d26-455e-99f8-ecebf2d84ff3 button.colab-df-convert');\n",
              "      buttonEl.style.display =\n",
              "        google.colab.kernel.accessAllowed ? 'block' : 'none';\n",
              "\n",
              "      async function convertToInteractive(key) {\n",
              "        const element = document.querySelector('#df-bc58eb8c-3d26-455e-99f8-ecebf2d84ff3');\n",
              "        const dataTable =\n",
              "          await google.colab.kernel.invokeFunction('convertToInteractive',\n",
              "                                                    [key], {});\n",
              "        if (!dataTable) return;\n",
              "\n",
              "        const docLinkHtml = 'Like what you see? Visit the ' +\n",
              "          '<a target=\"_blank\" href=https://colab.research.google.com/notebooks/data_table.ipynb>data table notebook</a>'\n",
              "          + ' to learn more about interactive tables.';\n",
              "        element.innerHTML = '';\n",
              "        dataTable['output_type'] = 'display_data';\n",
              "        await google.colab.output.renderOutput(dataTable, element);\n",
              "        const docLink = document.createElement('div');\n",
              "        docLink.innerHTML = docLinkHtml;\n",
              "        element.appendChild(docLink);\n",
              "      }\n",
              "    </script>\n",
              "  </div>\n",
              "\n",
              "\n",
              "<div id=\"df-23b50dac-95ea-4be7-97b2-6512c027c8ce\">\n",
              "  <button class=\"colab-df-quickchart\" onclick=\"quickchart('df-23b50dac-95ea-4be7-97b2-6512c027c8ce')\"\n",
              "            title=\"Suggest charts.\"\n",
              "            style=\"display:none;\">\n",
              "\n",
              "<svg xmlns=\"http://www.w3.org/2000/svg\" height=\"24px\"viewBox=\"0 0 24 24\"\n",
              "     width=\"24px\">\n",
              "    <g>\n",
              "        <path d=\"M19 3H5c-1.1 0-2 .9-2 2v14c0 1.1.9 2 2 2h14c1.1 0 2-.9 2-2V5c0-1.1-.9-2-2-2zM9 17H7v-7h2v7zm4 0h-2V7h2v10zm4 0h-2v-4h2v4z\"/>\n",
              "    </g>\n",
              "</svg>\n",
              "  </button>\n",
              "\n",
              "<style>\n",
              "  .colab-df-quickchart {\n",
              "      --bg-color: #E8F0FE;\n",
              "      --fill-color: #1967D2;\n",
              "      --hover-bg-color: #E2EBFA;\n",
              "      --hover-fill-color: #174EA6;\n",
              "      --disabled-fill-color: #AAA;\n",
              "      --disabled-bg-color: #DDD;\n",
              "  }\n",
              "\n",
              "  [theme=dark] .colab-df-quickchart {\n",
              "      --bg-color: #3B4455;\n",
              "      --fill-color: #D2E3FC;\n",
              "      --hover-bg-color: #434B5C;\n",
              "      --hover-fill-color: #FFFFFF;\n",
              "      --disabled-bg-color: #3B4455;\n",
              "      --disabled-fill-color: #666;\n",
              "  }\n",
              "\n",
              "  .colab-df-quickchart {\n",
              "    background-color: var(--bg-color);\n",
              "    border: none;\n",
              "    border-radius: 50%;\n",
              "    cursor: pointer;\n",
              "    display: none;\n",
              "    fill: var(--fill-color);\n",
              "    height: 32px;\n",
              "    padding: 0;\n",
              "    width: 32px;\n",
              "  }\n",
              "\n",
              "  .colab-df-quickchart:hover {\n",
              "    background-color: var(--hover-bg-color);\n",
              "    box-shadow: 0 1px 2px rgba(60, 64, 67, 0.3), 0 1px 3px 1px rgba(60, 64, 67, 0.15);\n",
              "    fill: var(--button-hover-fill-color);\n",
              "  }\n",
              "\n",
              "  .colab-df-quickchart-complete:disabled,\n",
              "  .colab-df-quickchart-complete:disabled:hover {\n",
              "    background-color: var(--disabled-bg-color);\n",
              "    fill: var(--disabled-fill-color);\n",
              "    box-shadow: none;\n",
              "  }\n",
              "\n",
              "  .colab-df-spinner {\n",
              "    border: 2px solid var(--fill-color);\n",
              "    border-color: transparent;\n",
              "    border-bottom-color: var(--fill-color);\n",
              "    animation:\n",
              "      spin 1s steps(1) infinite;\n",
              "  }\n",
              "\n",
              "  @keyframes spin {\n",
              "    0% {\n",
              "      border-color: transparent;\n",
              "      border-bottom-color: var(--fill-color);\n",
              "      border-left-color: var(--fill-color);\n",
              "    }\n",
              "    20% {\n",
              "      border-color: transparent;\n",
              "      border-left-color: var(--fill-color);\n",
              "      border-top-color: var(--fill-color);\n",
              "    }\n",
              "    30% {\n",
              "      border-color: transparent;\n",
              "      border-left-color: var(--fill-color);\n",
              "      border-top-color: var(--fill-color);\n",
              "      border-right-color: var(--fill-color);\n",
              "    }\n",
              "    40% {\n",
              "      border-color: transparent;\n",
              "      border-right-color: var(--fill-color);\n",
              "      border-top-color: var(--fill-color);\n",
              "    }\n",
              "    60% {\n",
              "      border-color: transparent;\n",
              "      border-right-color: var(--fill-color);\n",
              "    }\n",
              "    80% {\n",
              "      border-color: transparent;\n",
              "      border-right-color: var(--fill-color);\n",
              "      border-bottom-color: var(--fill-color);\n",
              "    }\n",
              "    90% {\n",
              "      border-color: transparent;\n",
              "      border-bottom-color: var(--fill-color);\n",
              "    }\n",
              "  }\n",
              "</style>\n",
              "\n",
              "  <script>\n",
              "    async function quickchart(key) {\n",
              "      const quickchartButtonEl =\n",
              "        document.querySelector('#' + key + ' button');\n",
              "      quickchartButtonEl.disabled = true;  // To prevent multiple clicks.\n",
              "      quickchartButtonEl.classList.add('colab-df-spinner');\n",
              "      try {\n",
              "        const charts = await google.colab.kernel.invokeFunction(\n",
              "            'suggestCharts', [key], {});\n",
              "      } catch (error) {\n",
              "        console.error('Error during call to suggestCharts:', error);\n",
              "      }\n",
              "      quickchartButtonEl.classList.remove('colab-df-spinner');\n",
              "      quickchartButtonEl.classList.add('colab-df-quickchart-complete');\n",
              "    }\n",
              "    (() => {\n",
              "      let quickchartButtonEl =\n",
              "        document.querySelector('#df-23b50dac-95ea-4be7-97b2-6512c027c8ce button');\n",
              "      quickchartButtonEl.style.display =\n",
              "        google.colab.kernel.accessAllowed ? 'block' : 'none';\n",
              "    })();\n",
              "  </script>\n",
              "</div>\n",
              "    </div>\n",
              "  </div>\n"
            ]
          },
          "metadata": {},
          "execution_count": 97
        }
      ],
      "source": [
        "columns_to_drop = ['born_alive', 'born_dead','wa_code'] #'event_uniqueID',\n",
        "cpragnacy_outcome.drop(columns=columns_to_drop, inplace=True)\n",
        "cpragnacy_outcome.head(5)\n"
      ]
    },
    {
      "cell_type": "code",
      "execution_count": 98,
      "metadata": {
        "colab": {
          "base_uri": "https://localhost:8080/"
        },
        "id": "IoMWraOMXv_-",
        "outputId": "99a3af37-745c-4dbd-8b7b-96caff91f085"
      },
      "outputs": [
        {
          "output_type": "execute_result",
          "data": {
            "text/plain": [
              "id                     int64\n",
              "provincia             object\n",
              "agegroup              object\n",
              "health_card           object\n",
              "birth_place           object\n",
              "time_of_pragnancy      int64\n",
              "multiple_birth        object\n",
              "bornDead             float64\n",
              "residence             object\n",
              "pofbsex               object\n",
              "pofbwgt              float64\n",
              "pofreg                object\n",
              "dtype: object"
            ]
          },
          "metadata": {},
          "execution_count": 98
        }
      ],
      "source": [
        "cpragnacy_outcome.dtypes"
      ]
    },
    {
      "cell_type": "code",
      "execution_count": 99,
      "metadata": {
        "colab": {
          "base_uri": "https://localhost:8080/"
        },
        "id": "_yKnNz4vYR6u",
        "outputId": "8e1e5581-bdc0-4dd0-c3c1-93bb5c6c8036"
      },
      "outputs": [
        {
          "output_type": "stream",
          "name": "stdout",
          "text": [
            "13710\n"
          ]
        }
      ],
      "source": [
        "print(cpragnacy_outcome.isnull().sum().sum())"
      ]
    },
    {
      "cell_type": "code",
      "execution_count": 100,
      "metadata": {
        "colab": {
          "base_uri": "https://localhost:8080/"
        },
        "id": "l2u3TIGUaAlt",
        "outputId": "0e8966b3-a533-4f64-a775-2557d3b16a3b"
      },
      "outputs": [
        {
          "output_type": "stream",
          "name": "stdout",
          "text": [
            "           id  provincia agegroup health_card      birth_place  \\\n",
            "12      58778     Sofala    20-24         Yes  Health facility   \n",
            "42      92547       Tete    20-24         Yes  Health facility   \n",
            "48      75152       Tete    15-19         Yes  Health facility   \n",
            "54     129519  Inhambane    30-34         Yes             Home   \n",
            "67      98143       Tete    25-29         Yes  Health facility   \n",
            "...       ...        ...      ...         ...              ...   \n",
            "66881   31449     Manica    25-29         Yes             Home   \n",
            "66882  115630   Zambezia    30-34         Yes             Home   \n",
            "66883  125672       Tete    25-29         Yes  Health facility   \n",
            "66884   34873     Sofala    20-24         Yes  Health facility   \n",
            "66885   33900     Manica    25-29         Yes             Home   \n",
            "\n",
            "       time_of_pragnancy multiple_birth  bornDead residence pofbsex  pofbwgt  \\\n",
            "12                     9             No       NaN     Urban     NaN      NaN   \n",
            "42                     9             No       NaN     Rural     NaN      NaN   \n",
            "48                     9             No       NaN     Rural     NaN      NaN   \n",
            "54                     9             No       NaN     Urban     NaN      NaN   \n",
            "67                     9             No       NaN     Rural     NaN      NaN   \n",
            "...                  ...            ...       ...       ...     ...      ...   \n",
            "66881                  9            Yes       NaN     Urban    Male   3000.0   \n",
            "66882                  9            Yes       NaN     Rural    Male   9999.0   \n",
            "66883                  9            Yes       NaN     Rural  Female   1900.0   \n",
            "66884                  9            Yes       NaN     Urban  Female   2100.0   \n",
            "66885                  9            Yes       NaN     Rural  Female   9999.0   \n",
            "\n",
            "      pofreg  \n",
            "12       NaN  \n",
            "42       NaN  \n",
            "48       NaN  \n",
            "54       NaN  \n",
            "67       NaN  \n",
            "...      ...  \n",
            "66881    Yes  \n",
            "66882    Yes  \n",
            "66883    Yes  \n",
            "66884    Yes  \n",
            "66885    Yes  \n",
            "\n",
            "[5369 rows x 12 columns]\n"
          ]
        }
      ],
      "source": [
        "missing_rows = cpragnacy_outcome[cpragnacy_outcome.isnull().any(axis=1)]\n",
        "print(missing_rows)"
      ]
    },
    {
      "cell_type": "code",
      "execution_count": 101,
      "metadata": {
        "colab": {
          "base_uri": "https://localhost:8080/",
          "height": 206
        },
        "id": "WVAM2PFfaE6N",
        "outputId": "c09af736-363f-4a2c-d2da-869f6a98bd9e"
      },
      "outputs": [
        {
          "output_type": "execute_result",
          "data": {
            "text/plain": [
              "           id         provincia agegroup health_card      birth_place  \\\n",
              "66685    5995      Cabo Delgado    30-34         Yes  Health facility   \n",
              "66732  119934      Cabo Delgado    25-29         Yes             Home   \n",
              "66733  119934      Cabo Delgado    25-29         Yes             Home   \n",
              "66734  119934      Cabo Delgado    25-29         Yes             Home   \n",
              "66828   71132  Maputo Provincia    25-29         Yes  Health facility   \n",
              "\n",
              "       time_of_pragnancy multiple_birth  bornDead residence pofbsex  pofbwgt  \\\n",
              "66685                 10             No       1.0     Rural    Male    700.0   \n",
              "66732                  9             No       1.0     Urban    Male   9999.0   \n",
              "66733                  9             No       1.0     Urban    Male   9999.0   \n",
              "66734                  9             No       1.0     Urban    Male   9999.0   \n",
              "66828                  9             No       1.0     Urban  Female   3600.0   \n",
              "\n",
              "      pofreg  \n",
              "66685    Yes  \n",
              "66732    Yes  \n",
              "66733    Yes  \n",
              "66734    Yes  \n",
              "66828    Yes  "
            ],
            "text/html": [
              "\n",
              "  <div id=\"df-754417e9-2c58-4759-9473-25780d223bbf\" class=\"colab-df-container\">\n",
              "    <div>\n",
              "<style scoped>\n",
              "    .dataframe tbody tr th:only-of-type {\n",
              "        vertical-align: middle;\n",
              "    }\n",
              "\n",
              "    .dataframe tbody tr th {\n",
              "        vertical-align: top;\n",
              "    }\n",
              "\n",
              "    .dataframe thead th {\n",
              "        text-align: right;\n",
              "    }\n",
              "</style>\n",
              "<table border=\"1\" class=\"dataframe\">\n",
              "  <thead>\n",
              "    <tr style=\"text-align: right;\">\n",
              "      <th></th>\n",
              "      <th>id</th>\n",
              "      <th>provincia</th>\n",
              "      <th>agegroup</th>\n",
              "      <th>health_card</th>\n",
              "      <th>birth_place</th>\n",
              "      <th>time_of_pragnancy</th>\n",
              "      <th>multiple_birth</th>\n",
              "      <th>bornDead</th>\n",
              "      <th>residence</th>\n",
              "      <th>pofbsex</th>\n",
              "      <th>pofbwgt</th>\n",
              "      <th>pofreg</th>\n",
              "    </tr>\n",
              "  </thead>\n",
              "  <tbody>\n",
              "    <tr>\n",
              "      <th>66685</th>\n",
              "      <td>5995</td>\n",
              "      <td>Cabo Delgado</td>\n",
              "      <td>30-34</td>\n",
              "      <td>Yes</td>\n",
              "      <td>Health facility</td>\n",
              "      <td>10</td>\n",
              "      <td>No</td>\n",
              "      <td>1.0</td>\n",
              "      <td>Rural</td>\n",
              "      <td>Male</td>\n",
              "      <td>700.0</td>\n",
              "      <td>Yes</td>\n",
              "    </tr>\n",
              "    <tr>\n",
              "      <th>66732</th>\n",
              "      <td>119934</td>\n",
              "      <td>Cabo Delgado</td>\n",
              "      <td>25-29</td>\n",
              "      <td>Yes</td>\n",
              "      <td>Home</td>\n",
              "      <td>9</td>\n",
              "      <td>No</td>\n",
              "      <td>1.0</td>\n",
              "      <td>Urban</td>\n",
              "      <td>Male</td>\n",
              "      <td>9999.0</td>\n",
              "      <td>Yes</td>\n",
              "    </tr>\n",
              "    <tr>\n",
              "      <th>66733</th>\n",
              "      <td>119934</td>\n",
              "      <td>Cabo Delgado</td>\n",
              "      <td>25-29</td>\n",
              "      <td>Yes</td>\n",
              "      <td>Home</td>\n",
              "      <td>9</td>\n",
              "      <td>No</td>\n",
              "      <td>1.0</td>\n",
              "      <td>Urban</td>\n",
              "      <td>Male</td>\n",
              "      <td>9999.0</td>\n",
              "      <td>Yes</td>\n",
              "    </tr>\n",
              "    <tr>\n",
              "      <th>66734</th>\n",
              "      <td>119934</td>\n",
              "      <td>Cabo Delgado</td>\n",
              "      <td>25-29</td>\n",
              "      <td>Yes</td>\n",
              "      <td>Home</td>\n",
              "      <td>9</td>\n",
              "      <td>No</td>\n",
              "      <td>1.0</td>\n",
              "      <td>Urban</td>\n",
              "      <td>Male</td>\n",
              "      <td>9999.0</td>\n",
              "      <td>Yes</td>\n",
              "    </tr>\n",
              "    <tr>\n",
              "      <th>66828</th>\n",
              "      <td>71132</td>\n",
              "      <td>Maputo Provincia</td>\n",
              "      <td>25-29</td>\n",
              "      <td>Yes</td>\n",
              "      <td>Health facility</td>\n",
              "      <td>9</td>\n",
              "      <td>No</td>\n",
              "      <td>1.0</td>\n",
              "      <td>Urban</td>\n",
              "      <td>Female</td>\n",
              "      <td>3600.0</td>\n",
              "      <td>Yes</td>\n",
              "    </tr>\n",
              "  </tbody>\n",
              "</table>\n",
              "</div>\n",
              "    <div class=\"colab-df-buttons\">\n",
              "\n",
              "  <div class=\"colab-df-container\">\n",
              "    <button class=\"colab-df-convert\" onclick=\"convertToInteractive('df-754417e9-2c58-4759-9473-25780d223bbf')\"\n",
              "            title=\"Convert this dataframe to an interactive table.\"\n",
              "            style=\"display:none;\">\n",
              "\n",
              "  <svg xmlns=\"http://www.w3.org/2000/svg\" height=\"24px\" viewBox=\"0 -960 960 960\">\n",
              "    <path d=\"M120-120v-720h720v720H120Zm60-500h600v-160H180v160Zm220 220h160v-160H400v160Zm0 220h160v-160H400v160ZM180-400h160v-160H180v160Zm440 0h160v-160H620v160ZM180-180h160v-160H180v160Zm440 0h160v-160H620v160Z\"/>\n",
              "  </svg>\n",
              "    </button>\n",
              "\n",
              "  <style>\n",
              "    .colab-df-container {\n",
              "      display:flex;\n",
              "      gap: 12px;\n",
              "    }\n",
              "\n",
              "    .colab-df-convert {\n",
              "      background-color: #E8F0FE;\n",
              "      border: none;\n",
              "      border-radius: 50%;\n",
              "      cursor: pointer;\n",
              "      display: none;\n",
              "      fill: #1967D2;\n",
              "      height: 32px;\n",
              "      padding: 0 0 0 0;\n",
              "      width: 32px;\n",
              "    }\n",
              "\n",
              "    .colab-df-convert:hover {\n",
              "      background-color: #E2EBFA;\n",
              "      box-shadow: 0px 1px 2px rgba(60, 64, 67, 0.3), 0px 1px 3px 1px rgba(60, 64, 67, 0.15);\n",
              "      fill: #174EA6;\n",
              "    }\n",
              "\n",
              "    .colab-df-buttons div {\n",
              "      margin-bottom: 4px;\n",
              "    }\n",
              "\n",
              "    [theme=dark] .colab-df-convert {\n",
              "      background-color: #3B4455;\n",
              "      fill: #D2E3FC;\n",
              "    }\n",
              "\n",
              "    [theme=dark] .colab-df-convert:hover {\n",
              "      background-color: #434B5C;\n",
              "      box-shadow: 0px 1px 3px 1px rgba(0, 0, 0, 0.15);\n",
              "      filter: drop-shadow(0px 1px 2px rgba(0, 0, 0, 0.3));\n",
              "      fill: #FFFFFF;\n",
              "    }\n",
              "  </style>\n",
              "\n",
              "    <script>\n",
              "      const buttonEl =\n",
              "        document.querySelector('#df-754417e9-2c58-4759-9473-25780d223bbf button.colab-df-convert');\n",
              "      buttonEl.style.display =\n",
              "        google.colab.kernel.accessAllowed ? 'block' : 'none';\n",
              "\n",
              "      async function convertToInteractive(key) {\n",
              "        const element = document.querySelector('#df-754417e9-2c58-4759-9473-25780d223bbf');\n",
              "        const dataTable =\n",
              "          await google.colab.kernel.invokeFunction('convertToInteractive',\n",
              "                                                    [key], {});\n",
              "        if (!dataTable) return;\n",
              "\n",
              "        const docLinkHtml = 'Like what you see? Visit the ' +\n",
              "          '<a target=\"_blank\" href=https://colab.research.google.com/notebooks/data_table.ipynb>data table notebook</a>'\n",
              "          + ' to learn more about interactive tables.';\n",
              "        element.innerHTML = '';\n",
              "        dataTable['output_type'] = 'display_data';\n",
              "        await google.colab.output.renderOutput(dataTable, element);\n",
              "        const docLink = document.createElement('div');\n",
              "        docLink.innerHTML = docLinkHtml;\n",
              "        element.appendChild(docLink);\n",
              "      }\n",
              "    </script>\n",
              "  </div>\n",
              "\n",
              "\n",
              "<div id=\"df-eb6ec219-9dbf-4c98-ab43-15433ccb8ec4\">\n",
              "  <button class=\"colab-df-quickchart\" onclick=\"quickchart('df-eb6ec219-9dbf-4c98-ab43-15433ccb8ec4')\"\n",
              "            title=\"Suggest charts.\"\n",
              "            style=\"display:none;\">\n",
              "\n",
              "<svg xmlns=\"http://www.w3.org/2000/svg\" height=\"24px\"viewBox=\"0 0 24 24\"\n",
              "     width=\"24px\">\n",
              "    <g>\n",
              "        <path d=\"M19 3H5c-1.1 0-2 .9-2 2v14c0 1.1.9 2 2 2h14c1.1 0 2-.9 2-2V5c0-1.1-.9-2-2-2zM9 17H7v-7h2v7zm4 0h-2V7h2v10zm4 0h-2v-4h2v4z\"/>\n",
              "    </g>\n",
              "</svg>\n",
              "  </button>\n",
              "\n",
              "<style>\n",
              "  .colab-df-quickchart {\n",
              "      --bg-color: #E8F0FE;\n",
              "      --fill-color: #1967D2;\n",
              "      --hover-bg-color: #E2EBFA;\n",
              "      --hover-fill-color: #174EA6;\n",
              "      --disabled-fill-color: #AAA;\n",
              "      --disabled-bg-color: #DDD;\n",
              "  }\n",
              "\n",
              "  [theme=dark] .colab-df-quickchart {\n",
              "      --bg-color: #3B4455;\n",
              "      --fill-color: #D2E3FC;\n",
              "      --hover-bg-color: #434B5C;\n",
              "      --hover-fill-color: #FFFFFF;\n",
              "      --disabled-bg-color: #3B4455;\n",
              "      --disabled-fill-color: #666;\n",
              "  }\n",
              "\n",
              "  .colab-df-quickchart {\n",
              "    background-color: var(--bg-color);\n",
              "    border: none;\n",
              "    border-radius: 50%;\n",
              "    cursor: pointer;\n",
              "    display: none;\n",
              "    fill: var(--fill-color);\n",
              "    height: 32px;\n",
              "    padding: 0;\n",
              "    width: 32px;\n",
              "  }\n",
              "\n",
              "  .colab-df-quickchart:hover {\n",
              "    background-color: var(--hover-bg-color);\n",
              "    box-shadow: 0 1px 2px rgba(60, 64, 67, 0.3), 0 1px 3px 1px rgba(60, 64, 67, 0.15);\n",
              "    fill: var(--button-hover-fill-color);\n",
              "  }\n",
              "\n",
              "  .colab-df-quickchart-complete:disabled,\n",
              "  .colab-df-quickchart-complete:disabled:hover {\n",
              "    background-color: var(--disabled-bg-color);\n",
              "    fill: var(--disabled-fill-color);\n",
              "    box-shadow: none;\n",
              "  }\n",
              "\n",
              "  .colab-df-spinner {\n",
              "    border: 2px solid var(--fill-color);\n",
              "    border-color: transparent;\n",
              "    border-bottom-color: var(--fill-color);\n",
              "    animation:\n",
              "      spin 1s steps(1) infinite;\n",
              "  }\n",
              "\n",
              "  @keyframes spin {\n",
              "    0% {\n",
              "      border-color: transparent;\n",
              "      border-bottom-color: var(--fill-color);\n",
              "      border-left-color: var(--fill-color);\n",
              "    }\n",
              "    20% {\n",
              "      border-color: transparent;\n",
              "      border-left-color: var(--fill-color);\n",
              "      border-top-color: var(--fill-color);\n",
              "    }\n",
              "    30% {\n",
              "      border-color: transparent;\n",
              "      border-left-color: var(--fill-color);\n",
              "      border-top-color: var(--fill-color);\n",
              "      border-right-color: var(--fill-color);\n",
              "    }\n",
              "    40% {\n",
              "      border-color: transparent;\n",
              "      border-right-color: var(--fill-color);\n",
              "      border-top-color: var(--fill-color);\n",
              "    }\n",
              "    60% {\n",
              "      border-color: transparent;\n",
              "      border-right-color: var(--fill-color);\n",
              "    }\n",
              "    80% {\n",
              "      border-color: transparent;\n",
              "      border-right-color: var(--fill-color);\n",
              "      border-bottom-color: var(--fill-color);\n",
              "    }\n",
              "    90% {\n",
              "      border-color: transparent;\n",
              "      border-bottom-color: var(--fill-color);\n",
              "    }\n",
              "  }\n",
              "</style>\n",
              "\n",
              "  <script>\n",
              "    async function quickchart(key) {\n",
              "      const quickchartButtonEl =\n",
              "        document.querySelector('#' + key + ' button');\n",
              "      quickchartButtonEl.disabled = true;  // To prevent multiple clicks.\n",
              "      quickchartButtonEl.classList.add('colab-df-spinner');\n",
              "      try {\n",
              "        const charts = await google.colab.kernel.invokeFunction(\n",
              "            'suggestCharts', [key], {});\n",
              "      } catch (error) {\n",
              "        console.error('Error during call to suggestCharts:', error);\n",
              "      }\n",
              "      quickchartButtonEl.classList.remove('colab-df-spinner');\n",
              "      quickchartButtonEl.classList.add('colab-df-quickchart-complete');\n",
              "    }\n",
              "    (() => {\n",
              "      let quickchartButtonEl =\n",
              "        document.querySelector('#df-eb6ec219-9dbf-4c98-ab43-15433ccb8ec4 button');\n",
              "      quickchartButtonEl.style.display =\n",
              "        google.colab.kernel.accessAllowed ? 'block' : 'none';\n",
              "    })();\n",
              "  </script>\n",
              "</div>\n",
              "    </div>\n",
              "  </div>\n"
            ]
          },
          "metadata": {},
          "execution_count": 101
        }
      ],
      "source": [
        "cpragnacy_outcome = cpragnacy_outcome.dropna()\n",
        "cpragnacy_outcome.tail(5)"
      ]
    },
    {
      "cell_type": "markdown",
      "metadata": {
        "id": "-Uoy5s1gf6V-"
      },
      "source": [
        "Rows and colums of the dataset"
      ]
    },
    {
      "cell_type": "code",
      "execution_count": 102,
      "metadata": {
        "colab": {
          "base_uri": "https://localhost:8080/"
        },
        "id": "Eiz6CxW7aV2X",
        "outputId": "7bb3ff63-c108-4598-c081-d97afb1d80fa"
      },
      "outputs": [
        {
          "output_type": "stream",
          "name": "stdout",
          "text": [
            "Rows: 61517\n",
            "Columns: 12\n"
          ]
        }
      ],
      "source": [
        "\n",
        "print(\"Rows: {}\".format(cpragnacy_outcome.shape[0]))\n",
        "print(\"Columns: {}\".format(cpragnacy_outcome.shape[1]))\n"
      ]
    },
    {
      "cell_type": "code",
      "execution_count": 103,
      "metadata": {
        "colab": {
          "base_uri": "https://localhost:8080/"
        },
        "id": "NNor5Vy3ZSgm",
        "outputId": "1647a1f0-f741-4bc9-94f7-7dc3a0e04850"
      },
      "outputs": [
        {
          "output_type": "stream",
          "name": "stdout",
          "text": [
            "True\n"
          ]
        }
      ],
      "source": [
        "duplicates = cpragnacy_outcome.duplicated()\n",
        "print(duplicates.any())"
      ]
    },
    {
      "cell_type": "code",
      "execution_count": 104,
      "metadata": {
        "colab": {
          "base_uri": "https://localhost:8080/"
        },
        "id": "OuIwNdqYXdcB",
        "outputId": "30d08455-44be-412c-e2a3-e01e9aeb5d18"
      },
      "outputs": [
        {
          "output_type": "stream",
          "name": "stdout",
          "text": [
            "           id         provincia agegroup health_card      birth_place  \\\n",
            "65680   70864            Sofala    15-19          No  Health facility   \n",
            "65684  114065              Gaza    25-29         Yes  Health facility   \n",
            "65743    6148      Cabo Delgado    20-24         Yes             Home   \n",
            "66297   98364            Manica    20-24         Yes  Health facility   \n",
            "66362   94190              Tete    15-19         Yes             Home   \n",
            "66382  111963          Zambezia    35-39         Yes             Home   \n",
            "66383  111963          Zambezia    35-39         Yes             Home   \n",
            "66489   67859  Maputo Provincia    20-24         Yes  Health facility   \n",
            "66522  110545      Cabo Delgado    35-39         Yes  Health facility   \n",
            "66554   63114      Cabo Delgado    20-24         Yes             Home   \n",
            "66638   28793           Nampula    15-19         Yes  Health facility   \n",
            "66639   28793           Nampula    15-19         Yes  Health facility   \n",
            "66640   28793           Nampula    15-19         Yes  Health facility   \n",
            "66732  119934      Cabo Delgado    25-29         Yes             Home   \n",
            "66733  119934      Cabo Delgado    25-29         Yes             Home   \n",
            "66734  119934      Cabo Delgado    25-29         Yes             Home   \n",
            "66828   71132  Maputo Provincia    25-29         Yes  Health facility   \n",
            "\n",
            "       time_of_pragnancy multiple_birth  bornDead residence pofbsex  pofbwgt  \\\n",
            "65680                  9             No       1.0     Rural  Female   3000.0   \n",
            "65684                  9             No       1.0     Rural    Male   3965.0   \n",
            "65743                  8             No       1.0     Rural    Male    500.0   \n",
            "66297                  9             No       1.0     Rural  Female   9999.0   \n",
            "66362                  9             No       1.0     Rural    Male   2200.0   \n",
            "66382                  9             No       1.0     Rural    Male    500.0   \n",
            "66383                  9             No       1.0     Rural    Male    500.0   \n",
            "66489                  9             No       1.0     Urban    Male   2800.0   \n",
            "66522                  9             No       1.0     Rural  Female   2700.0   \n",
            "66554                  9             No       1.0     Rural  Female   9999.0   \n",
            "66638                  9             No       1.0     Rural  Female   3200.0   \n",
            "66639                  9             No       1.0     Rural  Female   3200.0   \n",
            "66640                  9             No       1.0     Rural  Female   3200.0   \n",
            "66732                  9             No       1.0     Urban    Male   9999.0   \n",
            "66733                  9             No       1.0     Urban    Male   9999.0   \n",
            "66734                  9             No       1.0     Urban    Male   9999.0   \n",
            "66828                  9             No       1.0     Urban  Female   3600.0   \n",
            "\n",
            "      pofreg  \n",
            "65680     No  \n",
            "65684     No  \n",
            "65743    Yes  \n",
            "66297     No  \n",
            "66362     No  \n",
            "66382     No  \n",
            "66383     No  \n",
            "66489    Yes  \n",
            "66522    Yes  \n",
            "66554     No  \n",
            "66638    Yes  \n",
            "66639    Yes  \n",
            "66640    Yes  \n",
            "66732    Yes  \n",
            "66733    Yes  \n",
            "66734    Yes  \n",
            "66828    Yes  \n"
          ]
        }
      ],
      "source": [
        "print(cpragnacy_outcome[duplicates])"
      ]
    },
    {
      "cell_type": "code",
      "execution_count": 105,
      "metadata": {
        "colab": {
          "base_uri": "https://localhost:8080/",
          "height": 241
        },
        "id": "h332B1AZZj0f",
        "outputId": "9e493504-f74e-4c85-ff53-275fc10e9da9"
      },
      "outputs": [
        {
          "output_type": "stream",
          "name": "stdout",
          "text": [
            "Rows: 61500\n",
            "Columns: 12\n"
          ]
        },
        {
          "output_type": "execute_result",
          "data": {
            "text/plain": [
              "           id  provincia agegroup health_card      birth_place  \\\n",
              "50908  136942  Inhambane    30-34         Yes  Health facility   \n",
              "22541  136944  Inhambane    15-19         Yes  Health facility   \n",
              "58428  136945  Inhambane    20-24         Yes  Health facility   \n",
              "27070  136947  Inhambane    15-19         Yes  Health facility   \n",
              "36853  136948  Inhambane    15-19         Yes  Health facility   \n",
              "\n",
              "       time_of_pragnancy multiple_birth  bornDead residence pofbsex  pofbwgt  \\\n",
              "50908                  9             No       1.0     Rural  Female   3100.0   \n",
              "22541                  9             No       1.0     Urban  Female   4500.0   \n",
              "58428                  9             No       1.0     Urban  Female   3250.0   \n",
              "27070                  9             No       1.0     Urban  Female   3100.0   \n",
              "36853                  9             No       1.0     Urban    Male   3400.0   \n",
              "\n",
              "      pofreg  \n",
              "50908     No  \n",
              "22541    Yes  \n",
              "58428    Yes  \n",
              "27070    Yes  \n",
              "36853    Yes  "
            ],
            "text/html": [
              "\n",
              "  <div id=\"df-356d7a48-d497-4941-839f-159580a7d94b\" class=\"colab-df-container\">\n",
              "    <div>\n",
              "<style scoped>\n",
              "    .dataframe tbody tr th:only-of-type {\n",
              "        vertical-align: middle;\n",
              "    }\n",
              "\n",
              "    .dataframe tbody tr th {\n",
              "        vertical-align: top;\n",
              "    }\n",
              "\n",
              "    .dataframe thead th {\n",
              "        text-align: right;\n",
              "    }\n",
              "</style>\n",
              "<table border=\"1\" class=\"dataframe\">\n",
              "  <thead>\n",
              "    <tr style=\"text-align: right;\">\n",
              "      <th></th>\n",
              "      <th>id</th>\n",
              "      <th>provincia</th>\n",
              "      <th>agegroup</th>\n",
              "      <th>health_card</th>\n",
              "      <th>birth_place</th>\n",
              "      <th>time_of_pragnancy</th>\n",
              "      <th>multiple_birth</th>\n",
              "      <th>bornDead</th>\n",
              "      <th>residence</th>\n",
              "      <th>pofbsex</th>\n",
              "      <th>pofbwgt</th>\n",
              "      <th>pofreg</th>\n",
              "    </tr>\n",
              "  </thead>\n",
              "  <tbody>\n",
              "    <tr>\n",
              "      <th>50908</th>\n",
              "      <td>136942</td>\n",
              "      <td>Inhambane</td>\n",
              "      <td>30-34</td>\n",
              "      <td>Yes</td>\n",
              "      <td>Health facility</td>\n",
              "      <td>9</td>\n",
              "      <td>No</td>\n",
              "      <td>1.0</td>\n",
              "      <td>Rural</td>\n",
              "      <td>Female</td>\n",
              "      <td>3100.0</td>\n",
              "      <td>No</td>\n",
              "    </tr>\n",
              "    <tr>\n",
              "      <th>22541</th>\n",
              "      <td>136944</td>\n",
              "      <td>Inhambane</td>\n",
              "      <td>15-19</td>\n",
              "      <td>Yes</td>\n",
              "      <td>Health facility</td>\n",
              "      <td>9</td>\n",
              "      <td>No</td>\n",
              "      <td>1.0</td>\n",
              "      <td>Urban</td>\n",
              "      <td>Female</td>\n",
              "      <td>4500.0</td>\n",
              "      <td>Yes</td>\n",
              "    </tr>\n",
              "    <tr>\n",
              "      <th>58428</th>\n",
              "      <td>136945</td>\n",
              "      <td>Inhambane</td>\n",
              "      <td>20-24</td>\n",
              "      <td>Yes</td>\n",
              "      <td>Health facility</td>\n",
              "      <td>9</td>\n",
              "      <td>No</td>\n",
              "      <td>1.0</td>\n",
              "      <td>Urban</td>\n",
              "      <td>Female</td>\n",
              "      <td>3250.0</td>\n",
              "      <td>Yes</td>\n",
              "    </tr>\n",
              "    <tr>\n",
              "      <th>27070</th>\n",
              "      <td>136947</td>\n",
              "      <td>Inhambane</td>\n",
              "      <td>15-19</td>\n",
              "      <td>Yes</td>\n",
              "      <td>Health facility</td>\n",
              "      <td>9</td>\n",
              "      <td>No</td>\n",
              "      <td>1.0</td>\n",
              "      <td>Urban</td>\n",
              "      <td>Female</td>\n",
              "      <td>3100.0</td>\n",
              "      <td>Yes</td>\n",
              "    </tr>\n",
              "    <tr>\n",
              "      <th>36853</th>\n",
              "      <td>136948</td>\n",
              "      <td>Inhambane</td>\n",
              "      <td>15-19</td>\n",
              "      <td>Yes</td>\n",
              "      <td>Health facility</td>\n",
              "      <td>9</td>\n",
              "      <td>No</td>\n",
              "      <td>1.0</td>\n",
              "      <td>Urban</td>\n",
              "      <td>Male</td>\n",
              "      <td>3400.0</td>\n",
              "      <td>Yes</td>\n",
              "    </tr>\n",
              "  </tbody>\n",
              "</table>\n",
              "</div>\n",
              "    <div class=\"colab-df-buttons\">\n",
              "\n",
              "  <div class=\"colab-df-container\">\n",
              "    <button class=\"colab-df-convert\" onclick=\"convertToInteractive('df-356d7a48-d497-4941-839f-159580a7d94b')\"\n",
              "            title=\"Convert this dataframe to an interactive table.\"\n",
              "            style=\"display:none;\">\n",
              "\n",
              "  <svg xmlns=\"http://www.w3.org/2000/svg\" height=\"24px\" viewBox=\"0 -960 960 960\">\n",
              "    <path d=\"M120-120v-720h720v720H120Zm60-500h600v-160H180v160Zm220 220h160v-160H400v160Zm0 220h160v-160H400v160ZM180-400h160v-160H180v160Zm440 0h160v-160H620v160ZM180-180h160v-160H180v160Zm440 0h160v-160H620v160Z\"/>\n",
              "  </svg>\n",
              "    </button>\n",
              "\n",
              "  <style>\n",
              "    .colab-df-container {\n",
              "      display:flex;\n",
              "      gap: 12px;\n",
              "    }\n",
              "\n",
              "    .colab-df-convert {\n",
              "      background-color: #E8F0FE;\n",
              "      border: none;\n",
              "      border-radius: 50%;\n",
              "      cursor: pointer;\n",
              "      display: none;\n",
              "      fill: #1967D2;\n",
              "      height: 32px;\n",
              "      padding: 0 0 0 0;\n",
              "      width: 32px;\n",
              "    }\n",
              "\n",
              "    .colab-df-convert:hover {\n",
              "      background-color: #E2EBFA;\n",
              "      box-shadow: 0px 1px 2px rgba(60, 64, 67, 0.3), 0px 1px 3px 1px rgba(60, 64, 67, 0.15);\n",
              "      fill: #174EA6;\n",
              "    }\n",
              "\n",
              "    .colab-df-buttons div {\n",
              "      margin-bottom: 4px;\n",
              "    }\n",
              "\n",
              "    [theme=dark] .colab-df-convert {\n",
              "      background-color: #3B4455;\n",
              "      fill: #D2E3FC;\n",
              "    }\n",
              "\n",
              "    [theme=dark] .colab-df-convert:hover {\n",
              "      background-color: #434B5C;\n",
              "      box-shadow: 0px 1px 3px 1px rgba(0, 0, 0, 0.15);\n",
              "      filter: drop-shadow(0px 1px 2px rgba(0, 0, 0, 0.3));\n",
              "      fill: #FFFFFF;\n",
              "    }\n",
              "  </style>\n",
              "\n",
              "    <script>\n",
              "      const buttonEl =\n",
              "        document.querySelector('#df-356d7a48-d497-4941-839f-159580a7d94b button.colab-df-convert');\n",
              "      buttonEl.style.display =\n",
              "        google.colab.kernel.accessAllowed ? 'block' : 'none';\n",
              "\n",
              "      async function convertToInteractive(key) {\n",
              "        const element = document.querySelector('#df-356d7a48-d497-4941-839f-159580a7d94b');\n",
              "        const dataTable =\n",
              "          await google.colab.kernel.invokeFunction('convertToInteractive',\n",
              "                                                    [key], {});\n",
              "        if (!dataTable) return;\n",
              "\n",
              "        const docLinkHtml = 'Like what you see? Visit the ' +\n",
              "          '<a target=\"_blank\" href=https://colab.research.google.com/notebooks/data_table.ipynb>data table notebook</a>'\n",
              "          + ' to learn more about interactive tables.';\n",
              "        element.innerHTML = '';\n",
              "        dataTable['output_type'] = 'display_data';\n",
              "        await google.colab.output.renderOutput(dataTable, element);\n",
              "        const docLink = document.createElement('div');\n",
              "        docLink.innerHTML = docLinkHtml;\n",
              "        element.appendChild(docLink);\n",
              "      }\n",
              "    </script>\n",
              "  </div>\n",
              "\n",
              "\n",
              "<div id=\"df-ad03a902-1353-412e-afbd-75b16d60573d\">\n",
              "  <button class=\"colab-df-quickchart\" onclick=\"quickchart('df-ad03a902-1353-412e-afbd-75b16d60573d')\"\n",
              "            title=\"Suggest charts.\"\n",
              "            style=\"display:none;\">\n",
              "\n",
              "<svg xmlns=\"http://www.w3.org/2000/svg\" height=\"24px\"viewBox=\"0 0 24 24\"\n",
              "     width=\"24px\">\n",
              "    <g>\n",
              "        <path d=\"M19 3H5c-1.1 0-2 .9-2 2v14c0 1.1.9 2 2 2h14c1.1 0 2-.9 2-2V5c0-1.1-.9-2-2-2zM9 17H7v-7h2v7zm4 0h-2V7h2v10zm4 0h-2v-4h2v4z\"/>\n",
              "    </g>\n",
              "</svg>\n",
              "  </button>\n",
              "\n",
              "<style>\n",
              "  .colab-df-quickchart {\n",
              "      --bg-color: #E8F0FE;\n",
              "      --fill-color: #1967D2;\n",
              "      --hover-bg-color: #E2EBFA;\n",
              "      --hover-fill-color: #174EA6;\n",
              "      --disabled-fill-color: #AAA;\n",
              "      --disabled-bg-color: #DDD;\n",
              "  }\n",
              "\n",
              "  [theme=dark] .colab-df-quickchart {\n",
              "      --bg-color: #3B4455;\n",
              "      --fill-color: #D2E3FC;\n",
              "      --hover-bg-color: #434B5C;\n",
              "      --hover-fill-color: #FFFFFF;\n",
              "      --disabled-bg-color: #3B4455;\n",
              "      --disabled-fill-color: #666;\n",
              "  }\n",
              "\n",
              "  .colab-df-quickchart {\n",
              "    background-color: var(--bg-color);\n",
              "    border: none;\n",
              "    border-radius: 50%;\n",
              "    cursor: pointer;\n",
              "    display: none;\n",
              "    fill: var(--fill-color);\n",
              "    height: 32px;\n",
              "    padding: 0;\n",
              "    width: 32px;\n",
              "  }\n",
              "\n",
              "  .colab-df-quickchart:hover {\n",
              "    background-color: var(--hover-bg-color);\n",
              "    box-shadow: 0 1px 2px rgba(60, 64, 67, 0.3), 0 1px 3px 1px rgba(60, 64, 67, 0.15);\n",
              "    fill: var(--button-hover-fill-color);\n",
              "  }\n",
              "\n",
              "  .colab-df-quickchart-complete:disabled,\n",
              "  .colab-df-quickchart-complete:disabled:hover {\n",
              "    background-color: var(--disabled-bg-color);\n",
              "    fill: var(--disabled-fill-color);\n",
              "    box-shadow: none;\n",
              "  }\n",
              "\n",
              "  .colab-df-spinner {\n",
              "    border: 2px solid var(--fill-color);\n",
              "    border-color: transparent;\n",
              "    border-bottom-color: var(--fill-color);\n",
              "    animation:\n",
              "      spin 1s steps(1) infinite;\n",
              "  }\n",
              "\n",
              "  @keyframes spin {\n",
              "    0% {\n",
              "      border-color: transparent;\n",
              "      border-bottom-color: var(--fill-color);\n",
              "      border-left-color: var(--fill-color);\n",
              "    }\n",
              "    20% {\n",
              "      border-color: transparent;\n",
              "      border-left-color: var(--fill-color);\n",
              "      border-top-color: var(--fill-color);\n",
              "    }\n",
              "    30% {\n",
              "      border-color: transparent;\n",
              "      border-left-color: var(--fill-color);\n",
              "      border-top-color: var(--fill-color);\n",
              "      border-right-color: var(--fill-color);\n",
              "    }\n",
              "    40% {\n",
              "      border-color: transparent;\n",
              "      border-right-color: var(--fill-color);\n",
              "      border-top-color: var(--fill-color);\n",
              "    }\n",
              "    60% {\n",
              "      border-color: transparent;\n",
              "      border-right-color: var(--fill-color);\n",
              "    }\n",
              "    80% {\n",
              "      border-color: transparent;\n",
              "      border-right-color: var(--fill-color);\n",
              "      border-bottom-color: var(--fill-color);\n",
              "    }\n",
              "    90% {\n",
              "      border-color: transparent;\n",
              "      border-bottom-color: var(--fill-color);\n",
              "    }\n",
              "  }\n",
              "</style>\n",
              "\n",
              "  <script>\n",
              "    async function quickchart(key) {\n",
              "      const quickchartButtonEl =\n",
              "        document.querySelector('#' + key + ' button');\n",
              "      quickchartButtonEl.disabled = true;  // To prevent multiple clicks.\n",
              "      quickchartButtonEl.classList.add('colab-df-spinner');\n",
              "      try {\n",
              "        const charts = await google.colab.kernel.invokeFunction(\n",
              "            'suggestCharts', [key], {});\n",
              "      } catch (error) {\n",
              "        console.error('Error during call to suggestCharts:', error);\n",
              "      }\n",
              "      quickchartButtonEl.classList.remove('colab-df-spinner');\n",
              "      quickchartButtonEl.classList.add('colab-df-quickchart-complete');\n",
              "    }\n",
              "    (() => {\n",
              "      let quickchartButtonEl =\n",
              "        document.querySelector('#df-ad03a902-1353-412e-afbd-75b16d60573d button');\n",
              "      quickchartButtonEl.style.display =\n",
              "        google.colab.kernel.accessAllowed ? 'block' : 'none';\n",
              "    })();\n",
              "  </script>\n",
              "</div>\n",
              "    </div>\n",
              "  </div>\n"
            ]
          },
          "metadata": {},
          "execution_count": 105
        }
      ],
      "source": [
        "# Drop duplicates\n",
        "cpragnacy_outcome = cpragnacy_outcome.drop_duplicates()\n",
        "\n",
        "#cpragnacy_outcome.shape\n",
        "print(\"Rows: {}\".format(cpragnacy_outcome.shape[0]))\n",
        "print(\"Columns: {}\".format(cpragnacy_outcome.shape[1]))\n",
        "\n",
        "cpragnacy_outcome = cpragnacy_outcome.sort_values(by=['id'])\n",
        "\n",
        "# Calculate the mean of 'pofbwgt'\n",
        "mean_pofbwgt = cpragnacy_outcome['pofbwgt'].mean()\n",
        "\n",
        "# Replacing values greater than 7 with the mean in the 'pofbwg' column.\n",
        "# This decision is based on the rarity of extremely high birth weights.\n",
        "# While it's possible for babies to weigh 7kg at birth, it's quite uncommon.\n",
        "# Birth weights of 9kg or 10kg are exceptionally rare and historically limited.\n",
        "# In fact, such weights were recorded primarily around the 1950s but remain extremely unusual.\n",
        "# By replacing these outliers with the mean, we aim to maintain a more representative dataset.\n",
        "\n",
        "cpragnacy_outcome.loc[cpragnacy_outcome['pofbwgt'] > 8000, 'pofbwgt'] = mean_pofbwgt\n",
        "\n",
        "# Same with time of pragnancy\n",
        "cpragnacy_outcome.loc[cpragnacy_outcome['time_of_pragnancy'] > 11, 'time_of_pragnancy'] = 9\n",
        "\n",
        "\n",
        "\n",
        "cpragnacy_outcome.tail()"
      ]
    },
    {
      "cell_type": "markdown",
      "source": [
        "Completeness"
      ],
      "metadata": {
        "id": "fjD-YOJEGU9C"
      }
    },
    {
      "cell_type": "code",
      "source": [
        "print(\"{0:.1f}%\".format((cpragnacy_outcome.count().sum()/(cpragnacy_outcome.isnull().sum().sum()+cpragnacy_outcome.count().sum())) * 100))"
      ],
      "metadata": {
        "colab": {
          "base_uri": "https://localhost:8080/"
        },
        "id": "rWL-BwaoGW9O",
        "outputId": "9d64e2be-6d70-43b0-c902-ec030b58ef24"
      },
      "execution_count": 106,
      "outputs": [
        {
          "output_type": "stream",
          "name": "stdout",
          "text": [
            "100.0%\n"
          ]
        }
      ]
    },
    {
      "cell_type": "markdown",
      "source": [],
      "metadata": {
        "id": "1aFMwQ_RIIDn"
      }
    },
    {
      "cell_type": "code",
      "source": [
        "cpragnacy_outcome.describe()"
      ],
      "metadata": {
        "colab": {
          "base_uri": "https://localhost:8080/",
          "height": 300
        },
        "id": "oSxW_YSGIJDm",
        "outputId": "86155183-ee0b-45a0-9146-d694d62b75b3"
      },
      "execution_count": 107,
      "outputs": [
        {
          "output_type": "execute_result",
          "data": {
            "text/plain": [
              "                  id  time_of_pragnancy  bornDead       pofbwgt\n",
              "count   61500.000000       61500.000000   61500.0  61500.000000\n",
              "mean    70079.395870           8.993008       1.0   2987.479977\n",
              "std     36620.906754           0.346812       0.0    877.399057\n",
              "min        12.000000           6.000000       1.0    500.000000\n",
              "25%     39180.500000           9.000000       1.0   2600.000000\n",
              "50%     71678.000000           9.000000       1.0   3000.000000\n",
              "75%    102788.250000           9.000000       1.0   3500.000000\n",
              "max    136948.000000          10.000000       1.0   7000.000000"
            ],
            "text/html": [
              "\n",
              "  <div id=\"df-cb71e869-24b0-4b82-89e7-8c00bbc87026\" class=\"colab-df-container\">\n",
              "    <div>\n",
              "<style scoped>\n",
              "    .dataframe tbody tr th:only-of-type {\n",
              "        vertical-align: middle;\n",
              "    }\n",
              "\n",
              "    .dataframe tbody tr th {\n",
              "        vertical-align: top;\n",
              "    }\n",
              "\n",
              "    .dataframe thead th {\n",
              "        text-align: right;\n",
              "    }\n",
              "</style>\n",
              "<table border=\"1\" class=\"dataframe\">\n",
              "  <thead>\n",
              "    <tr style=\"text-align: right;\">\n",
              "      <th></th>\n",
              "      <th>id</th>\n",
              "      <th>time_of_pragnancy</th>\n",
              "      <th>bornDead</th>\n",
              "      <th>pofbwgt</th>\n",
              "    </tr>\n",
              "  </thead>\n",
              "  <tbody>\n",
              "    <tr>\n",
              "      <th>count</th>\n",
              "      <td>61500.000000</td>\n",
              "      <td>61500.000000</td>\n",
              "      <td>61500.0</td>\n",
              "      <td>61500.000000</td>\n",
              "    </tr>\n",
              "    <tr>\n",
              "      <th>mean</th>\n",
              "      <td>70079.395870</td>\n",
              "      <td>8.993008</td>\n",
              "      <td>1.0</td>\n",
              "      <td>2987.479977</td>\n",
              "    </tr>\n",
              "    <tr>\n",
              "      <th>std</th>\n",
              "      <td>36620.906754</td>\n",
              "      <td>0.346812</td>\n",
              "      <td>0.0</td>\n",
              "      <td>877.399057</td>\n",
              "    </tr>\n",
              "    <tr>\n",
              "      <th>min</th>\n",
              "      <td>12.000000</td>\n",
              "      <td>6.000000</td>\n",
              "      <td>1.0</td>\n",
              "      <td>500.000000</td>\n",
              "    </tr>\n",
              "    <tr>\n",
              "      <th>25%</th>\n",
              "      <td>39180.500000</td>\n",
              "      <td>9.000000</td>\n",
              "      <td>1.0</td>\n",
              "      <td>2600.000000</td>\n",
              "    </tr>\n",
              "    <tr>\n",
              "      <th>50%</th>\n",
              "      <td>71678.000000</td>\n",
              "      <td>9.000000</td>\n",
              "      <td>1.0</td>\n",
              "      <td>3000.000000</td>\n",
              "    </tr>\n",
              "    <tr>\n",
              "      <th>75%</th>\n",
              "      <td>102788.250000</td>\n",
              "      <td>9.000000</td>\n",
              "      <td>1.0</td>\n",
              "      <td>3500.000000</td>\n",
              "    </tr>\n",
              "    <tr>\n",
              "      <th>max</th>\n",
              "      <td>136948.000000</td>\n",
              "      <td>10.000000</td>\n",
              "      <td>1.0</td>\n",
              "      <td>7000.000000</td>\n",
              "    </tr>\n",
              "  </tbody>\n",
              "</table>\n",
              "</div>\n",
              "    <div class=\"colab-df-buttons\">\n",
              "\n",
              "  <div class=\"colab-df-container\">\n",
              "    <button class=\"colab-df-convert\" onclick=\"convertToInteractive('df-cb71e869-24b0-4b82-89e7-8c00bbc87026')\"\n",
              "            title=\"Convert this dataframe to an interactive table.\"\n",
              "            style=\"display:none;\">\n",
              "\n",
              "  <svg xmlns=\"http://www.w3.org/2000/svg\" height=\"24px\" viewBox=\"0 -960 960 960\">\n",
              "    <path d=\"M120-120v-720h720v720H120Zm60-500h600v-160H180v160Zm220 220h160v-160H400v160Zm0 220h160v-160H400v160ZM180-400h160v-160H180v160Zm440 0h160v-160H620v160ZM180-180h160v-160H180v160Zm440 0h160v-160H620v160Z\"/>\n",
              "  </svg>\n",
              "    </button>\n",
              "\n",
              "  <style>\n",
              "    .colab-df-container {\n",
              "      display:flex;\n",
              "      gap: 12px;\n",
              "    }\n",
              "\n",
              "    .colab-df-convert {\n",
              "      background-color: #E8F0FE;\n",
              "      border: none;\n",
              "      border-radius: 50%;\n",
              "      cursor: pointer;\n",
              "      display: none;\n",
              "      fill: #1967D2;\n",
              "      height: 32px;\n",
              "      padding: 0 0 0 0;\n",
              "      width: 32px;\n",
              "    }\n",
              "\n",
              "    .colab-df-convert:hover {\n",
              "      background-color: #E2EBFA;\n",
              "      box-shadow: 0px 1px 2px rgba(60, 64, 67, 0.3), 0px 1px 3px 1px rgba(60, 64, 67, 0.15);\n",
              "      fill: #174EA6;\n",
              "    }\n",
              "\n",
              "    .colab-df-buttons div {\n",
              "      margin-bottom: 4px;\n",
              "    }\n",
              "\n",
              "    [theme=dark] .colab-df-convert {\n",
              "      background-color: #3B4455;\n",
              "      fill: #D2E3FC;\n",
              "    }\n",
              "\n",
              "    [theme=dark] .colab-df-convert:hover {\n",
              "      background-color: #434B5C;\n",
              "      box-shadow: 0px 1px 3px 1px rgba(0, 0, 0, 0.15);\n",
              "      filter: drop-shadow(0px 1px 2px rgba(0, 0, 0, 0.3));\n",
              "      fill: #FFFFFF;\n",
              "    }\n",
              "  </style>\n",
              "\n",
              "    <script>\n",
              "      const buttonEl =\n",
              "        document.querySelector('#df-cb71e869-24b0-4b82-89e7-8c00bbc87026 button.colab-df-convert');\n",
              "      buttonEl.style.display =\n",
              "        google.colab.kernel.accessAllowed ? 'block' : 'none';\n",
              "\n",
              "      async function convertToInteractive(key) {\n",
              "        const element = document.querySelector('#df-cb71e869-24b0-4b82-89e7-8c00bbc87026');\n",
              "        const dataTable =\n",
              "          await google.colab.kernel.invokeFunction('convertToInteractive',\n",
              "                                                    [key], {});\n",
              "        if (!dataTable) return;\n",
              "\n",
              "        const docLinkHtml = 'Like what you see? Visit the ' +\n",
              "          '<a target=\"_blank\" href=https://colab.research.google.com/notebooks/data_table.ipynb>data table notebook</a>'\n",
              "          + ' to learn more about interactive tables.';\n",
              "        element.innerHTML = '';\n",
              "        dataTable['output_type'] = 'display_data';\n",
              "        await google.colab.output.renderOutput(dataTable, element);\n",
              "        const docLink = document.createElement('div');\n",
              "        docLink.innerHTML = docLinkHtml;\n",
              "        element.appendChild(docLink);\n",
              "      }\n",
              "    </script>\n",
              "  </div>\n",
              "\n",
              "\n",
              "<div id=\"df-40a8f1ca-7017-44df-9124-d4432527bb73\">\n",
              "  <button class=\"colab-df-quickchart\" onclick=\"quickchart('df-40a8f1ca-7017-44df-9124-d4432527bb73')\"\n",
              "            title=\"Suggest charts.\"\n",
              "            style=\"display:none;\">\n",
              "\n",
              "<svg xmlns=\"http://www.w3.org/2000/svg\" height=\"24px\"viewBox=\"0 0 24 24\"\n",
              "     width=\"24px\">\n",
              "    <g>\n",
              "        <path d=\"M19 3H5c-1.1 0-2 .9-2 2v14c0 1.1.9 2 2 2h14c1.1 0 2-.9 2-2V5c0-1.1-.9-2-2-2zM9 17H7v-7h2v7zm4 0h-2V7h2v10zm4 0h-2v-4h2v4z\"/>\n",
              "    </g>\n",
              "</svg>\n",
              "  </button>\n",
              "\n",
              "<style>\n",
              "  .colab-df-quickchart {\n",
              "      --bg-color: #E8F0FE;\n",
              "      --fill-color: #1967D2;\n",
              "      --hover-bg-color: #E2EBFA;\n",
              "      --hover-fill-color: #174EA6;\n",
              "      --disabled-fill-color: #AAA;\n",
              "      --disabled-bg-color: #DDD;\n",
              "  }\n",
              "\n",
              "  [theme=dark] .colab-df-quickchart {\n",
              "      --bg-color: #3B4455;\n",
              "      --fill-color: #D2E3FC;\n",
              "      --hover-bg-color: #434B5C;\n",
              "      --hover-fill-color: #FFFFFF;\n",
              "      --disabled-bg-color: #3B4455;\n",
              "      --disabled-fill-color: #666;\n",
              "  }\n",
              "\n",
              "  .colab-df-quickchart {\n",
              "    background-color: var(--bg-color);\n",
              "    border: none;\n",
              "    border-radius: 50%;\n",
              "    cursor: pointer;\n",
              "    display: none;\n",
              "    fill: var(--fill-color);\n",
              "    height: 32px;\n",
              "    padding: 0;\n",
              "    width: 32px;\n",
              "  }\n",
              "\n",
              "  .colab-df-quickchart:hover {\n",
              "    background-color: var(--hover-bg-color);\n",
              "    box-shadow: 0 1px 2px rgba(60, 64, 67, 0.3), 0 1px 3px 1px rgba(60, 64, 67, 0.15);\n",
              "    fill: var(--button-hover-fill-color);\n",
              "  }\n",
              "\n",
              "  .colab-df-quickchart-complete:disabled,\n",
              "  .colab-df-quickchart-complete:disabled:hover {\n",
              "    background-color: var(--disabled-bg-color);\n",
              "    fill: var(--disabled-fill-color);\n",
              "    box-shadow: none;\n",
              "  }\n",
              "\n",
              "  .colab-df-spinner {\n",
              "    border: 2px solid var(--fill-color);\n",
              "    border-color: transparent;\n",
              "    border-bottom-color: var(--fill-color);\n",
              "    animation:\n",
              "      spin 1s steps(1) infinite;\n",
              "  }\n",
              "\n",
              "  @keyframes spin {\n",
              "    0% {\n",
              "      border-color: transparent;\n",
              "      border-bottom-color: var(--fill-color);\n",
              "      border-left-color: var(--fill-color);\n",
              "    }\n",
              "    20% {\n",
              "      border-color: transparent;\n",
              "      border-left-color: var(--fill-color);\n",
              "      border-top-color: var(--fill-color);\n",
              "    }\n",
              "    30% {\n",
              "      border-color: transparent;\n",
              "      border-left-color: var(--fill-color);\n",
              "      border-top-color: var(--fill-color);\n",
              "      border-right-color: var(--fill-color);\n",
              "    }\n",
              "    40% {\n",
              "      border-color: transparent;\n",
              "      border-right-color: var(--fill-color);\n",
              "      border-top-color: var(--fill-color);\n",
              "    }\n",
              "    60% {\n",
              "      border-color: transparent;\n",
              "      border-right-color: var(--fill-color);\n",
              "    }\n",
              "    80% {\n",
              "      border-color: transparent;\n",
              "      border-right-color: var(--fill-color);\n",
              "      border-bottom-color: var(--fill-color);\n",
              "    }\n",
              "    90% {\n",
              "      border-color: transparent;\n",
              "      border-bottom-color: var(--fill-color);\n",
              "    }\n",
              "  }\n",
              "</style>\n",
              "\n",
              "  <script>\n",
              "    async function quickchart(key) {\n",
              "      const quickchartButtonEl =\n",
              "        document.querySelector('#' + key + ' button');\n",
              "      quickchartButtonEl.disabled = true;  // To prevent multiple clicks.\n",
              "      quickchartButtonEl.classList.add('colab-df-spinner');\n",
              "      try {\n",
              "        const charts = await google.colab.kernel.invokeFunction(\n",
              "            'suggestCharts', [key], {});\n",
              "      } catch (error) {\n",
              "        console.error('Error during call to suggestCharts:', error);\n",
              "      }\n",
              "      quickchartButtonEl.classList.remove('colab-df-spinner');\n",
              "      quickchartButtonEl.classList.add('colab-df-quickchart-complete');\n",
              "    }\n",
              "    (() => {\n",
              "      let quickchartButtonEl =\n",
              "        document.querySelector('#df-40a8f1ca-7017-44df-9124-d4432527bb73 button');\n",
              "      quickchartButtonEl.style.display =\n",
              "        google.colab.kernel.accessAllowed ? 'block' : 'none';\n",
              "    })();\n",
              "  </script>\n",
              "</div>\n",
              "    </div>\n",
              "  </div>\n"
            ]
          },
          "metadata": {},
          "execution_count": 107
        }
      ]
    },
    {
      "cell_type": "markdown",
      "source": [
        "# We'll Explore Distribution of Childbirth Events by Province\n",
        "\n",
        "Let's explore some categorical variables 'province' to gain initial insights."
      ],
      "metadata": {
        "id": "K2OS-0aiLP_A"
      }
    },
    {
      "cell_type": "code",
      "source": [
        "# Counting the categories in 'province'\n",
        "province_counts = cpragnacy_outcome['provincia'].value_counts()\n",
        "print(province_counts)\n",
        "\n",
        "# Bar chart for 'province'\n",
        "plt.figure(figsize=(10, 6))\n",
        "province_counts.plot(kind='bar')\n",
        "plt.title('Distribution of labour events by Province')\n",
        "plt.xlabel('The Province')\n",
        "plt.ylabel('Number of labour events')\n",
        "plt.show()"
      ],
      "metadata": {
        "colab": {
          "base_uri": "https://localhost:8080/",
          "height": 878
        },
        "id": "fiq4mK7ULtqA",
        "outputId": "2228be1b-6103-45b9-aa8d-41d016608e71"
      },
      "execution_count": 108,
      "outputs": [
        {
          "output_type": "stream",
          "name": "stdout",
          "text": [
            "Zambezia            12132\n",
            "Tete                 9519\n",
            "Manica               7654\n",
            "Cabo Delgado         7480\n",
            "Nampula              5501\n",
            "Niassa               4938\n",
            "Sofala               3541\n",
            "Inhambane            3396\n",
            "Gaza                 2748\n",
            "Maputo Provincia     2507\n",
            "Maputo Cidade        2084\n",
            "Name: provincia, dtype: int64\n"
          ]
        },
        {
          "output_type": "display_data",
          "data": {
            "text/plain": [
              "<Figure size 1000x600 with 1 Axes>"
            ],
            "image/png": "[encoded data removed]"
          },
          "metadata": {}
        }
      ]
    },
    {
      "cell_type": "markdown",
      "source": [
        "We observe that the Zambeze province recorded the highest number of labor-related cases"
      ],
      "metadata": {
        "id": "CduONTQ3omDh"
      }
    },
    {
      "cell_type": "markdown",
      "source": [
        "# Analysing Relationships\n",
        "\n",
        "Let's explore possible relationships between variables. I'm going to investigate how birth weight varies with the mother's age ('agegroup')."
      ],
      "metadata": {
        "id": "DkYFG4tPMwj_"
      }
    },
    {
      "cell_type": "code",
      "source": [
        "# Boxplot of 'pofbwgt' by 'agegroup'\n",
        "plt.figure(figsize=(12, 6))\n",
        "sns.boxplot(x='agegroup', y='pofbwgt', data=cpragnacy_outcome)\n",
        "plt.title('Relationship between Mother\\'s Age and Birth Weight')\n",
        "plt.xlabel('Mother\\'s age (Group)')\n",
        "plt.ylabel('Birth weight (g)')\n",
        "plt.xticks(rotation=45)\n",
        "plt.show()"
      ],
      "metadata": {
        "colab": {
          "base_uri": "https://localhost:8080/",
          "height": 588
        },
        "id": "vpqEhb9RM3Lh",
        "outputId": "51072412-df64-4f9f-9af0-e8947f88d9f2"
      },
      "execution_count": 109,
      "outputs": [
        {
          "output_type": "display_data",
          "data": {
            "text/plain": [
              "<Figure size 1200x600 with 1 Axes>"
            ],
            "image/png": "[encoded data removed]"
          },
          "metadata": {}
        }
      ]
    },
    {
      "cell_type": "code",
      "source": [
        "plt.figure(figsize=(12, 6))\n",
        "plt.scatter(cpragnacy_outcome['agegroup'], cpragnacy_outcome['pofbwgt'], alpha=0.5)\n",
        "plt.title('birth weight vs. mothers age')\n",
        "plt.xlabel('Mothers age (Grupo)')\n",
        "plt.ylabel('weight birth (g)')\n",
        "plt.xticks(rotation=45)\n",
        "plt.show()"
      ],
      "metadata": {
        "colab": {
          "base_uri": "https://localhost:8080/",
          "height": 588
        },
        "id": "EhV3tgRgN2hR",
        "outputId": "fc5242e6-5de2-42c1-fbe5-e1f92e93f81c"
      },
      "execution_count": 110,
      "outputs": [
        {
          "output_type": "display_data",
          "data": {
            "text/plain": [
              "<Figure size 1200x600 with 1 Axes>"
            ],
            "image/png": "[encoded data removed]"
          },
          "metadata": {}
        }
      ]
    },
    {
      "cell_type": "markdown",
      "source": [
        "With the analysis of the two plots, it becomes evident that younger and older women tend to have infants with lower birth weights. Conversely, women in their prime reproductive years typically give birth to infants with higher birth weights, which is indicative of overall better maternal and infant health."
      ],
      "metadata": {
        "id": "Y5ROjgfBn9cy"
      }
    },
    {
      "cell_type": "markdown",
      "source": [
        "# Distribution of Births by Location\n",
        "Let's explore the distribution of births based on birth_place."
      ],
      "metadata": {
        "id": "mrBK3aJyOtm-"
      }
    },
    {
      "cell_type": "code",
      "source": [
        "birthplace_counts = cpragnacy_outcome['birth_place'].value_counts()\n",
        "\n",
        "plt.figure(figsize=(8, 6))\n",
        "birthplace_counts.plot(kind='pie', autopct='%1.1f%%', startangle=90)\n",
        "plt.title('Distribution of Births by Location')\n",
        "plt.ylabel('')\n",
        "plt.show()"
      ],
      "metadata": {
        "colab": {
          "base_uri": "https://localhost:8080/",
          "height": 521
        },
        "id": "lpla-f5OO2Il",
        "outputId": "a18a7a63-4cad-4844-a67d-f3a63b2ccfb9"
      },
      "execution_count": 111,
      "outputs": [
        {
          "output_type": "display_data",
          "data": {
            "text/plain": [
              "<Figure size 800x600 with 1 Axes>"
            ],
            "image/png": "[encoded data removed]"
          },
          "metadata": {}
        }
      ]
    },
    {
      "cell_type": "markdown",
      "source": [
        "In the analysis, we find that approximately 33.2% of births took place at home, with 2.2% occurring in other non-standard locations, possibly en route to a hospital. The majority, approximately 64%, took place within hospital facilities"
      ],
      "metadata": {
        "id": "aIgN2X5MnOrR"
      }
    },
    {
      "cell_type": "markdown",
      "source": [
        "# Influence of the Health Card on a Successful Birth\n",
        "In this analysis, we will investigate whether the presence of a health card (health_card) is associated with a higher number of successful births. The health card usually indicates that the mother received adequate antenatal care. We want to understand whether this has a positive influence on birth outcomes."
      ],
      "metadata": {
        "id": "B9yOGOJTROfG"
      }
    },
    {
      "cell_type": "code",
      "source": [
        "plt.figure(figsize=(8, 6))\n",
        "sns.barplot(data=cpragnacy_outcome, x='health_card', y='bornDead', ci=None)\n",
        "plt.title('Influence of the Health Card on a Successful Birth')\n",
        "plt.xlabel('Health Card')\n",
        "plt.ylabel('Proportion of Successful Births')\n",
        "plt.show()"
      ],
      "metadata": {
        "colab": {
          "base_uri": "https://localhost:8080/",
          "height": 651
        },
        "id": "ZbpG6JcWRQda",
        "outputId": "d8484bbd-9247-406f-cdbf-243933bb4374"
      },
      "execution_count": 112,
      "outputs": [
        {
          "output_type": "stream",
          "name": "stderr",
          "text": [
            "<ipython-input-112-c7408577dca4>:2: FutureWarning: \n",
            "\n",
            "The `ci` parameter is deprecated. Use `errorbar=None` for the same effect.\n",
            "\n",
            "  sns.barplot(data=cpragnacy_outcome, x='health_card', y='bornDead', ci=None)\n"
          ]
        },
        {
          "output_type": "display_data",
          "data": {
            "text/plain": [
              "<Figure size 800x600 with 1 Axes>"
            ],
            "image/png": "[encoded data removed]"
          },
          "metadata": {}
        }
      ]
    },
    {
      "cell_type": "markdown",
      "source": [
        "In this context, whether individuals possessed a health card or underwent prenatal care, it's noteworthy that 100% of pregnancies resulted in live births"
      ],
      "metadata": {
        "id": "4lIHS7GUnBAu"
      }
    },
    {
      "cell_type": "code",
      "source": [
        "# Vamos criar um gráfico de barras empilhadas para comparar a presença do cartão de saúde com o acompanhamento pré-natal e os resultados de nascimento\n",
        "plt.figure(figsize=(12, 6))\n",
        "sns.countplot(data=cpragnacy_outcome, x='health_card', hue='time_of_pragnancy', palette='Set2')\n",
        "plt.title('Health Card and Maternal Responsibility in Pregnancy')\n",
        "plt.xlabel('Health Card')\n",
        "plt.ylabel('Count of labours')\n",
        "plt.legend(title='Time of pragnacy')\n",
        "plt.show()"
      ],
      "metadata": {
        "colab": {
          "base_uri": "https://localhost:8080/",
          "height": 564
        },
        "id": "G96eM0uAh5tB",
        "outputId": "46ea7f55-5857-4e7d-eb9e-990e9710faea"
      },
      "execution_count": 113,
      "outputs": [
        {
          "output_type": "display_data",
          "data": {
            "text/plain": [
              "<Figure size 1200x600 with 1 Axes>"
            ],
            "image/png": "[encoded data removed]"
          },
          "metadata": {}
        }
      ]
    },
    {
      "cell_type": "markdown",
      "source": [
        "The majority of pregnancies last for approximately 9 months, and it's notable that a smaller proportion of women did not undergo prenatal care"
      ],
      "metadata": {
        "id": "I1ekzZ2omtEG"
      }
    },
    {
      "cell_type": "markdown",
      "source": [
        "# Mothers' age and multiple births\n",
        "\n",
        "In this analysis, we will explore the relationship between the age of mothers (maternal age) and the occurrence of multiple births. We want to determine whether certain maternal age groups are more or less likely to have multiple births."
      ],
      "metadata": {
        "id": "PJL7rnFNjuLS"
      }
    },
    {
      "cell_type": "code",
      "source": [
        "plt.figure(figsize=(10, 6))\n",
        "sns.countplot(data=cpragnacy_outcome, x='agegroup', hue='multiple_birth')\n",
        "plt.title('Occurrence of Multiple Births by Maternal Age')\n",
        "plt.xlabel('Motherss age (Grupo)')\n",
        "plt.ylabel('Births numbers')\n",
        "plt.legend(title='Multiple Births', labels=['No', 'Yes'])\n",
        "plt.show()"
      ],
      "metadata": {
        "colab": {
          "base_uri": "https://localhost:8080/",
          "height": 564
        },
        "id": "ShnEAZ09jwDK",
        "outputId": "83541b6e-2400-4062-fe45-a9485e82a80a"
      },
      "execution_count": 114,
      "outputs": [
        {
          "output_type": "display_data",
          "data": {
            "text/plain": [
              "<Figure size 1000x600 with 1 Axes>"
            ],
            "image/png": "[encoded data removed]"
          },
          "metadata": {}
        }
      ]
    },
    {
      "cell_type": "markdown",
      "source": [
        "From our analysis, it becomes evident that the age of the mother does not appear to significantly influence the likelihood of giving birth to twins"
      ],
      "metadata": {
        "id": "M5vTTy1FmfeB"
      }
    },
    {
      "cell_type": "markdown",
      "source": [
        "# Occurrence of Multiple Births and Outcomes (Live or Dead)\n",
        "\n",
        "In this analysis, we will investigate the occurrence of multiple births and determine whether the majority of them were born alive or dead."
      ],
      "metadata": {
        "id": "bIsjtxsVkHUB"
      }
    },
    {
      "cell_type": "code",
      "source": [
        "plt.figure(figsize=(10, 6))\n",
        "sns.countplot(data=cpragnacy_outcome, x='multiple_birth', hue='bornDead', palette='Set2')\n",
        "plt.title('Occurrence of Multiple Births and Birth Outcome')\n",
        "plt.xlabel('Multiple Births')\n",
        "plt.ylabel('Accountancy')\n",
        "plt.legend(title='Birth results', labels=['Alive', 'Dead'])\n",
        "plt.show()"
      ],
      "metadata": {
        "colab": {
          "base_uri": "https://localhost:8080/",
          "height": 564
        },
        "id": "8nShTF6VkBhA",
        "outputId": "dd26829a-2b85-435e-ee60-de417d410d62"
      },
      "execution_count": 115,
      "outputs": [
        {
          "output_type": "display_data",
          "data": {
            "text/plain": [
              "<Figure size 1000x600 with 1 Axes>"
            ],
            "image/png": "[encoded data removed]"
          },
          "metadata": {}
        }
      ]
    },
    {
      "cell_type": "markdown",
      "source": [
        "In this context, the occurrence of multiple births does not seem to significantly influence whether the birth is classified as alive or stillbirth. It's important to note that this observation may be influenced by the limited amount of data available on this specific scenario."
      ],
      "metadata": {
        "id": "MwIyTp5lmIqM"
      }
    },
    {
      "cell_type": "markdown",
      "source": [
        "# **Regression - Birth Weight Prediction:**"
      ],
      "metadata": {
        "id": "8qD-VnOupqW7"
      }
    },
    {
      "cell_type": "markdown",
      "source": [
        "**Data preparation:**\n"
      ],
      "metadata": {
        "id": "hZGTK-dDqO_a"
      }
    },
    {
      "cell_type": "code",
      "source": [
        "#id\tprovincia\tagegroup\thealth_card\tbirth_place\ttime_of_pragnancy\tmultiple_birth\tbornDead\tresidence\tpofbsex\tpofbwgt\tpofreg\n",
        "\n",
        "# Wont use it now, maybe when classificating if the kid will be born dead or alive\n",
        "cpragnacy_outcome['birth_place'] = cpragnacy_outcome['birth_place'].map({'Health Facility': 1, 'Home': 2, 'Other': 3})\n",
        "\n",
        "\n",
        "\n",
        "cpragnacy_outcome['multiple_birth'] = cpragnacy_outcome['multiple_birth'].map({'Yes': 1, 'No': 0})\n",
        "cpragnacy_outcome['health_card'] = cpragnacy_outcome['health_card'].map({'Yes': 1, 'No': 0})\n",
        "\n",
        "#changing the agegroup mean\n",
        "cpragnacy_outcome['agegroup'] = cpragnacy_outcome['agegroup'].str.split('-').apply(lambda x: (int(x[0]) + int(x[1])) / 2)\n",
        "\n",
        "\n",
        "features = ['agegroup', 'health_card', 'time_of_pragnancy', 'multiple_birth']\n",
        "X = cpragnacy_outcome[features]\n",
        "y = cpragnacy_outcome['pofbwgt']"
      ],
      "metadata": {
        "id": "Il4tmAMMqVJE"
      },
      "execution_count": 116,
      "outputs": []
    },
    {
      "cell_type": "markdown",
      "source": [
        "# Data division:\n",
        "\n",
        "Now dividing the data into training and test sets. I'll use 80 per cent of the data for training and 20 per cent for testing"
      ],
      "metadata": {
        "id": "0QlOMoOPvYVT"
      }
    },
    {
      "cell_type": "code",
      "source": [
        "X_train, X_test, y_train, y_test = train_test_split(X, y, test_size=0.2, random_state=42)\n"
      ],
      "metadata": {
        "id": "daRwLfI7vgA8"
      },
      "execution_count": 117,
      "outputs": []
    },
    {
      "cell_type": "markdown",
      "source": [
        "# Regression Model:\n",
        "\n",
        "I'll use a Multiple Linear Regression model to predict the birth weight  child wen born"
      ],
      "metadata": {
        "id": "6-MUS7R9vpPY"
      }
    },
    {
      "cell_type": "code",
      "source": [
        "# Crie e treine o modelo de Regressão Linear Múltipla\n",
        "model = LinearRegression()\n",
        "model.fit(X_train, y_train)"
      ],
      "metadata": {
        "colab": {
          "base_uri": "https://localhost:8080/",
          "height": 75
        },
        "id": "3Z44epOMvqSx",
        "outputId": "9367b206-6692-44f8-d8bf-3592494bf7ff"
      },
      "execution_count": 118,
      "outputs": [
        {
          "output_type": "execute_result",
          "data": {
            "text/plain": [
              "LinearRegression()"
            ],
            "text/html": [
              "<style>#sk-container-id-3 {color: black;background-color: white;}#sk-container-id-3 pre{padding: 0;}#sk-container-id-3 div.sk-toggleable {background-color: white;}#sk-container-id-3 label.sk-toggleable__label {cursor: pointer;display: block;width: 100%;margin-bottom: 0;padding: 0.3em;box-sizing: border-box;text-align: center;}#sk-container-id-3 label.sk-toggleable__label-arrow:before {content: \"▸\";float: left;margin-right: 0.25em;color: #696969;}#sk-container-id-3 label.sk-toggleable__label-arrow:hover:before {color: black;}#sk-container-id-3 div.sk-estimator:hover label.sk-toggleable__label-arrow:before {color: black;}#sk-container-id-3 div.sk-toggleable__content {max-height: 0;max-width: 0;overflow: hidden;text-align: left;background-color: #f0f8ff;}#sk-container-id-3 div.sk-toggleable__content pre {margin: 0.2em;color: black;border-radius: 0.25em;background-color: #f0f8ff;}#sk-container-id-3 input.sk-toggleable__control:checked~div.sk-toggleable__content {max-height: 200px;max-width: 100%;overflow: auto;}#sk-container-id-3 input.sk-toggleable__control:checked~label.sk-toggleable__label-arrow:before {content: \"▾\";}#sk-container-id-3 div.sk-estimator input.sk-toggleable__control:checked~label.sk-toggleable__label {background-color: #d4ebff;}#sk-container-id-3 div.sk-label input.sk-toggleable__control:checked~label.sk-toggleable__label {background-color: #d4ebff;}#sk-container-id-3 input.sk-hidden--visually {border: 0;clip: rect(1px 1px 1px 1px);clip: rect(1px, 1px, 1px, 1px);height: 1px;margin: -1px;overflow: hidden;padding: 0;position: absolute;width: 1px;}#sk-container-id-3 div.sk-estimator {font-family: monospace;background-color: #f0f8ff;border: 1px dotted black;border-radius: 0.25em;box-sizing: border-box;margin-bottom: 0.5em;}#sk-container-id-3 div.sk-estimator:hover {background-color: #d4ebff;}#sk-container-id-3 div.sk-parallel-item::after {content: \"\";width: 100%;border-bottom: 1px solid gray;flex-grow: 1;}#sk-container-id-3 div.sk-label:hover label.sk-toggleable__label {background-color: #d4ebff;}#sk-container-id-3 div.sk-serial::before {content: \"\";position: absolute;border-left: 1px solid gray;box-sizing: border-box;top: 0;bottom: 0;left: 50%;z-index: 0;}#sk-container-id-3 div.sk-serial {display: flex;flex-direction: column;align-items: center;background-color: white;padding-right: 0.2em;padding-left: 0.2em;position: relative;}#sk-container-id-3 div.sk-item {position: relative;z-index: 1;}#sk-container-id-3 div.sk-parallel {display: flex;align-items: stretch;justify-content: center;background-color: white;position: relative;}#sk-container-id-3 div.sk-item::before, #sk-container-id-3 div.sk-parallel-item::before {content: \"\";position: absolute;border-left: 1px solid gray;box-sizing: border-box;top: 0;bottom: 0;left: 50%;z-index: -1;}#sk-container-id-3 div.sk-parallel-item {display: flex;flex-direction: column;z-index: 1;position: relative;background-color: white;}#sk-container-id-3 div.sk-parallel-item:first-child::after {align-self: flex-end;width: 50%;}#sk-container-id-3 div.sk-parallel-item:last-child::after {align-self: flex-start;width: 50%;}#sk-container-id-3 div.sk-parallel-item:only-child::after {width: 0;}#sk-container-id-3 div.sk-dashed-wrapped {border: 1px dashed gray;margin: 0 0.4em 0.5em 0.4em;box-sizing: border-box;padding-bottom: 0.4em;background-color: white;}#sk-container-id-3 div.sk-label label {font-family: monospace;font-weight: bold;display: inline-block;line-height: 1.2em;}#sk-container-id-3 div.sk-label-container {text-align: center;}#sk-container-id-3 div.sk-container {/* jupyter's `normalize.less` sets `[hidden] { display: none; }` but bootstrap.min.css set `[hidden] { display: none !important; }` so we also need the `!important` here to be able to override the default hidden behavior on the sphinx rendered scikit-learn.org. See: https://github.com/scikit-learn/scikit-learn/issues/21755 */display: inline-block !important;position: relative;}#sk-container-id-3 div.sk-text-repr-fallback {display: none;}</style><div id=\"sk-container-id-3\" class=\"sk-top-container\"><div class=\"sk-text-repr-fallback\"><pre>LinearRegression()</pre><b>In a Jupyter environment, please rerun this cell to show the HTML representation or trust the notebook. <br />On GitHub, the HTML representation is unable to render, please try loading this page with nbviewer.org.</b></div><div class=\"sk-container\" hidden><div class=\"sk-item\"><div class=\"sk-estimator sk-toggleable\"><input class=\"sk-toggleable__control sk-hidden--visually\" id=\"sk-estimator-id-3\" type=\"checkbox\" checked><label for=\"sk-estimator-id-3\" class=\"sk-toggleable__label sk-toggleable__label-arrow\">LinearRegression</label><div class=\"sk-toggleable__content\"><pre>LinearRegression()</pre></div></div></div></div></div>"
            ]
          },
          "metadata": {},
          "execution_count": 118
        }
      ]
    },
    {
      "cell_type": "markdown",
      "source": [
        "# Model Evaluation:\n",
        "\n",
        "Evaluating the model's performance using regression metrics, such as Mean Squared Error (MSE) or Coefficient of Determination (R^2), on the test set:"
      ],
      "metadata": {
        "id": "KHtD7Z0Pvz9M"
      }
    },
    {
      "cell_type": "code",
      "source": [
        "#  no conjunto de teste\n",
        "y_pred = model.predict(X_test)\n",
        "\n",
        "\n",
        "# Regression Model Metrics\n",
        "mse = mean_squared_error(y_test, y_pred)\n",
        "r2 = r2_score(y_test, y_pred)\n",
        "\n",
        "print(\"\\nRegression Model Metrics:\")\n",
        "print(f'Erro Quadrático Médio (MSE): {mse:.2f}')\n",
        "print(f'Coeficiente de Determinação (R^2): {r2:.2f}')\n"
      ],
      "metadata": {
        "colab": {
          "base_uri": "https://localhost:8080/"
        },
        "id": "pjxhUI1Gv7eD",
        "outputId": "e2aeace0-caa2-4993-a8ed-8a0ec792126d"
      },
      "execution_count": 119,
      "outputs": [
        {
          "output_type": "stream",
          "name": "stdout",
          "text": [
            "\n",
            "Regression Model Metrics:\n",
            "Erro Quadrático Médio (MSE): 755553.80\n",
            "Coeficiente de Determinação (R^2): 0.00\n"
          ]
        }
      ]
    },
    {
      "cell_type": "markdown",
      "source": [
        "NOt satisfied by mse, testing with others"
      ],
      "metadata": {
        "id": "cb-27LSqhj0g"
      }
    },
    {
      "cell_type": "code",
      "source": [
        "poly_features = PolynomialFeatures(degree=2)\n",
        "X_poly = poly_features.fit_transform(X_train)\n",
        "\n",
        "poly_model = LinearRegression()\n",
        "poly_model.fit(X_poly, y_train)\n",
        "\n",
        "y_pred = poly_model.predict(poly_features.transform(X_test))\n",
        "\n",
        "mse = mean_squared_error(y_test, y_pred)\n",
        "r2 = r2_score(y_test, y_pred)\n",
        "\n",
        "print(\"Polynomial Regression Metrics:\")\n",
        "print(f'Mean Squared Error (MSE): {mse:.2f}')\n",
        "print(f'Coefficient of Determination (R^2): {r2:.2f}')\n"
      ],
      "metadata": {
        "colab": {
          "base_uri": "https://localhost:8080/"
        },
        "id": "7qgkWH-ohows",
        "outputId": "5fe83175-a670-46ce-85a7-4a959e0edc14"
      },
      "execution_count": 120,
      "outputs": [
        {
          "output_type": "stream",
          "name": "stdout",
          "text": [
            "Polynomial Regression Metrics:\n",
            "Mean Squared Error (MSE): 754776.05\n",
            "Coefficient of Determination (R^2): 0.01\n"
          ]
        }
      ]
    },
    {
      "cell_type": "code",
      "source": [
        "tree_model = DecisionTreeRegressor()\n",
        "tree_model.fit(X_train, y_train)\n",
        "\n",
        "y_pred = tree_model.predict(X_test)\n",
        "\n",
        "mse = mean_squared_error(y_test, y_pred)\n",
        "r2 = r2_score(y_test, y_pred)\n",
        "\n",
        "print(\"Decision Tree Regression Metrics:\")\n",
        "print(f'Mean Squared Error (MSE): {mse:.2f}')\n",
        "print(f'Coefficient of Determination (R^2): {r2:.2f}')\n"
      ],
      "metadata": {
        "colab": {
          "base_uri": "https://localhost:8080/"
        },
        "id": "1SgamqrNhx3E",
        "outputId": "df71fe31-c87a-428d-8ac2-a8f00c2c01f9"
      },
      "execution_count": 121,
      "outputs": [
        {
          "output_type": "stream",
          "name": "stdout",
          "text": [
            "Decision Tree Regression Metrics:\n",
            "Mean Squared Error (MSE): 754314.65\n",
            "Coefficient of Determination (R^2): 0.01\n"
          ]
        }
      ]
    },
    {
      "cell_type": "code",
      "source": [
        "forest_model = RandomForestRegressor()\n",
        "forest_model.fit(X_train, y_train)\n",
        "\n",
        "y_pred = forest_model.predict(X_test)\n",
        "\n",
        "mse = mean_squared_error(y_test, y_pred)\n",
        "r2 = r2_score(y_test, y_pred)\n",
        "\n",
        "print(\"Random Forest Regression Metrics:\")\n",
        "print(f'Mean Squared Error (MSE): {mse:.2f}')\n",
        "print(f'Coefficient of Determination (R^2): {r2:.2f}')\n"
      ],
      "metadata": {
        "colab": {
          "base_uri": "https://localhost:8080/"
        },
        "id": "7KT4qjRSh1PU",
        "outputId": "7d82e295-ac81-4a81-a348-f510af574d5e"
      },
      "execution_count": 122,
      "outputs": [
        {
          "output_type": "stream",
          "name": "stdout",
          "text": [
            "Random Forest Regression Metrics:\n",
            "Mean Squared Error (MSE): 754303.59\n",
            "Coefficient of Determination (R^2): 0.01\n"
          ]
        }
      ]
    },
    {
      "cell_type": "markdown",
      "source": [
        "# ***Conclusion***\n",
        "The regression models (including Linear Regression, Polynomial Regression, Decision Tree Regression and Random Forest Regression) did not perform well in predicting birth weight (pofbwgt) based on the selected traits. The MSE values indicate that the models' predictions have a considerable amount of error and the R² values are very close to zero, which suggests that the models are not explaining much of the variation in birth weight."
      ],
      "metadata": {
        "id": "v6KalwfnlFgW"
      }
    }
  ],
  "metadata": {
    "colab": {
      "provenance": [],
      "authorship_tag": "ABX9TyOStiNrp1f2HAiDn9w37gwd",
      "include_colab_link": true
    },
    "kernelspec": {
      "display_name": "Python 3",
      "name": "python3"
    },
    "language_info": {
      "name": "python"
    }
  },
  "nbformat": 4,
  "nbformat_minor": 0
}